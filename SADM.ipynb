{
 "cells": [
  {
   "cell_type": "markdown",
   "id": "2e08d5d7",
   "metadata": {},
   "source": [
    "# Wstęp\n",
    "Narzędziem wykorzystywanym w projekcie jest język Python wraz ze swoją biblioteką `pandas`, przeznaczoną do analizy danych. Niniejszy raport przygotowano w środowisku `jupyter`, które udostępnia przeglądarkowy interfejs z jądrem obliczeniowym Pythona. Można tam w łatwy sposób wykonywać kod i od razu uzyskiwać wyniki czy wykresy, a także przeplatać komórki kodu z komórkami tekstu formatowanymi zgodnie z językiem `markdown`, co nadaje całemu dokumentowi przystępną w odbiorze formę.\n",
    "\n",
    "Do testów statystycznych wykorzystano funkcje z biblioteki `SciPy`, do analizy post-hoc użyto pakietu `scikit-posthocs`,  do analizy przeżycia zastosowano pakiet `lifelines`, regresja logistyczna pochodzi ze `statsmodels` oraz `sklearn` (podobnie jak inne funkcje wykorzystywane w zadaniu klasyfikacji)."
   ]
  },
  {
   "cell_type": "code",
   "execution_count": 1,
   "id": "bc85ef65",
   "metadata": {},
   "outputs": [],
   "source": [
    "import pandas as pd\n",
    "import numpy as np\n",
    "import matplotlib.pyplot as plt\n",
    "from scipy.stats import shapiro, ttest_rel, wilcoxon, bartlett, ttest_ind, mannwhitneyu, f_oneway, friedmanchisquare\n",
    "plt.rcParams['figure.figsize'] = [10, 5]"
   ]
  },
  {
   "cell_type": "markdown",
   "id": "55d62812",
   "metadata": {},
   "source": [
    "Do typowej dla biblioteki `pandas` struktury danych `DataFrame` wczytano pierwszy zbiór danych analizowany w projekcie, tj. *crime.csv*. Został on pobrany spośród wielu zbiorów danych udostępnionych przez Uniwersytet Sheffield pod [tym](https://www.sheffield.ac.uk/mash/statistics/datasets) adresem . Następnie sprawdzono, czy gdziekolwiek w zbiorze występują puste wartości wymagające uzupełnienia -- nie stwierdzono takiego przypadku."
   ]
  },
  {
   "cell_type": "code",
   "execution_count": 2,
   "id": "398bb307",
   "metadata": {},
   "outputs": [
    {
     "name": "stdout",
     "output_type": "stream",
     "text": [
      "False False\n"
     ]
    }
   ],
   "source": [
    "df = pd.read_csv('crime.csv')\n",
    "print(df.isnull().values.any(), df.isna().values.any())"
   ]
  },
  {
   "cell_type": "markdown",
   "id": "4e863021",
   "metadata": {},
   "source": [
    "Dane opisują przestępczość w Stanach Zjednoczonych, tj. dla każdego stanu dysponujemy próbką zawierającą wartość współczynnika przestępczości w tym stanie i szereg dodatkowych czynników. Dane zebrano w pewnym punkcie czasu, a także 10 lat później, co uwzględniono w nazwach kolumn struktury `DataFrame` (liczba 10 na końcu oznacza, że dane w tej kolumnie są późniejsze). Obserwacje przechowywane są albo jako liczby całkowite, albo zmiennoprzecinkowe."
   ]
  },
  {
   "cell_type": "code",
   "execution_count": 3,
   "id": "d4096f58",
   "metadata": {},
   "outputs": [
    {
     "name": "stdout",
     "output_type": "stream",
     "text": [
      "CrimeRate              float64\n",
      "Youth                    int64\n",
      "Southern                 int64\n",
      "Education              float64\n",
      "ExpenditureYear0         int64\n",
      "LabourForce              int64\n",
      "Males                    int64\n",
      "MoreMales                int64\n",
      "StateSize                int64\n",
      "YouthUnemployment        int64\n",
      "MatureUnemployment       int64\n",
      "HighYouthUnemploy        int64\n",
      "Wage                     int64\n",
      "BelowWage                int64\n",
      "CrimeRate10            float64\n",
      "Youth10                  int64\n",
      "Education10            float64\n",
      "ExpenditureYear10        int64\n",
      "LabourForce10            int64\n",
      "Males10                  int64\n",
      "MoreMales10              int64\n",
      "StateSize10              int64\n",
      "YouthUnemploy10          int64\n",
      "MatureUnemploy10         int64\n",
      "HighYouthUnemploy10      int64\n",
      "Wage10                   int64\n",
      "BelowWage10              int64\n",
      "dtype: object\n"
     ]
    }
   ],
   "source": [
    "print(df.dtypes)"
   ]
  },
  {
   "cell_type": "markdown",
   "id": "4f44c2d8",
   "metadata": {},
   "source": [
    "W poniższej tabeli przedstawiono opisy zmiennych (kolumn) występujących w zbiorze danych. Dla kategorycznych cech binarych wartości liczbowe $0$, $1$ zastąpiono odpowiednio słowami **nie**, **tak** dla łatwiejszej interpretacji.\n",
    "\n",
    "\n",
    "| Cecha                 | Opis                                                                                                                                      | Rodzaj zmiennej |\n",
    "|-----------------------|-------------------------------------------------------------------------------------------------------------------------------------------|-----------------|\n",
    "| CrimeRate             | współczynnik przestępczosci (liczba wykroczeń rocznie na sto tysięcy mieszkańców)                                                                      | ciągła          |\n",
    "| Youth                 | liczba mężczyzn w wieku 18-24 na 1000 mężczyzn                                                                                         | dyskretna       |\n",
    "| Southern              | stan południowy (1 = tak, 0 = nie)                                                                                                        | binarna         |\n",
    "| Education             | średnia liczba lat edukacji mieszkańca do osiągnięcia 25 roku życia | ciągła\n",
    "| ExpenditureY.      | roczne wydatki na policję w dolarach w przeliczeniu na osobę                                                                                            | ciągła          |\n",
    "| LabourForce           | liczba zatrudnionych mężczyzn w wieku 18-24 na 1000 mężczyzn w wieku 18-24                                                                           | dyskretna       |\n",
    "| Males                 | liczba mężczyzn przypadających na 1000 kobiet                                                                                             | dyskretna       |\n",
    "| MoreMales             | więcej mężczyzn przypada na 1000 kobiet (1 = tak, 0 = nie)                                                                                | binarna         |\n",
    "| StateSize             | liczba ludności stanu (w setkach tysięcy mieszkańców)                                                                                             | dyskretna       |\n",
    "| YouthUn.     | liczba niezatrudnionych młodych mężczyzn w wieku 18-24 na 1000 mężczyzn w wieku 18-24                                                                        | dyskretna       |\n",
    "| MatureUn.    | liczba niezatrudnionych dojrzałych mężczyzn w wieku 35-39 na 1000 mężczyzn w wieku 35-39                                                                        | dyskretna       |\n",
    "| HighYouthUn. | wysokie bezrobocie młodych mężczyzn w stosunku do dojrzałych (1 = tak, 0 = nie, tak, gdy Youth > 3 * Mature) | binarna         |\n",
    "| Wage                  | mediana tygodniowej pensji w dolarach                                                                                                               | ciągła          |\n",
    "| BelowWage             | liczba rodzin żyjących za kwotę poniżej połowy przeciętnej tygodniowej pensji na 1000 rodzin                                                                               | dyskretna       |"
   ]
  },
  {
   "cell_type": "code",
   "execution_count": 4,
   "id": "655ca1de",
   "metadata": {},
   "outputs": [],
   "source": [
    "df = df.replace({'Southern' : {0 : 'nie', 1 : 'tak'}, 'MoreMales' : {0 : 'nie', 1 : 'tak'},\n",
    "                 'HighYouthUnemploy' : {0 : 'nie', 1 : 'tak'}, 'MoreMales10' : {0 : 'nie', 1 : 'tak'},\n",
    "                 'HighYouthUnemploy10' : {0 : 'nie', 1 : 'tak'}})"
   ]
  },
  {
   "cell_type": "markdown",
   "id": "9f5042cd",
   "metadata": {},
   "source": [
    "Dla wygody dane zapisano w osobnych strukturach danych: pierwsza (`df1`) odnosi się do danych pozyskanych wcześniej, a druga (`df2`) -- po 10 latach. Jedynym parametrem niezmiennym na przestrzeni lat jest *Southern*, tj. przynależność stanu do stanów południowych lub nie.\n",
    "\n",
    "Poniżej pokazano początkową część zawartości tabel."
   ]
  },
  {
   "cell_type": "code",
   "execution_count": 5,
   "id": "0d961b56",
   "metadata": {},
   "outputs": [
    {
     "data": {
      "text/html": [
       "<div>\n",
       "<style scoped>\n",
       "    .dataframe tbody tr th:only-of-type {\n",
       "        vertical-align: middle;\n",
       "    }\n",
       "\n",
       "    .dataframe tbody tr th {\n",
       "        vertical-align: top;\n",
       "    }\n",
       "\n",
       "    .dataframe thead th {\n",
       "        text-align: right;\n",
       "    }\n",
       "</style>\n",
       "<table border=\"1\" class=\"dataframe\">\n",
       "  <thead>\n",
       "    <tr style=\"text-align: right;\">\n",
       "      <th></th>\n",
       "      <th>CrimeRate</th>\n",
       "      <th>Youth</th>\n",
       "      <th>Southern</th>\n",
       "      <th>Education</th>\n",
       "      <th>ExpenditureYear0</th>\n",
       "      <th>LabourForce</th>\n",
       "      <th>Males</th>\n",
       "      <th>MoreMales</th>\n",
       "      <th>StateSize</th>\n",
       "      <th>YouthUnemployment</th>\n",
       "      <th>MatureUnemployment</th>\n",
       "      <th>HighYouthUnemploy</th>\n",
       "      <th>Wage</th>\n",
       "      <th>BelowWage</th>\n",
       "    </tr>\n",
       "  </thead>\n",
       "  <tbody>\n",
       "    <tr>\n",
       "      <th>0</th>\n",
       "      <td>45.5</td>\n",
       "      <td>135</td>\n",
       "      <td>nie</td>\n",
       "      <td>12.4</td>\n",
       "      <td>69</td>\n",
       "      <td>540</td>\n",
       "      <td>965</td>\n",
       "      <td>nie</td>\n",
       "      <td>6</td>\n",
       "      <td>80</td>\n",
       "      <td>22</td>\n",
       "      <td>tak</td>\n",
       "      <td>564</td>\n",
       "      <td>139</td>\n",
       "    </tr>\n",
       "    <tr>\n",
       "      <th>1</th>\n",
       "      <td>52.3</td>\n",
       "      <td>140</td>\n",
       "      <td>nie</td>\n",
       "      <td>10.9</td>\n",
       "      <td>55</td>\n",
       "      <td>535</td>\n",
       "      <td>1045</td>\n",
       "      <td>tak</td>\n",
       "      <td>6</td>\n",
       "      <td>135</td>\n",
       "      <td>40</td>\n",
       "      <td>tak</td>\n",
       "      <td>453</td>\n",
       "      <td>200</td>\n",
       "    </tr>\n",
       "    <tr>\n",
       "      <th>2</th>\n",
       "      <td>56.6</td>\n",
       "      <td>157</td>\n",
       "      <td>tak</td>\n",
       "      <td>11.2</td>\n",
       "      <td>47</td>\n",
       "      <td>512</td>\n",
       "      <td>962</td>\n",
       "      <td>nie</td>\n",
       "      <td>22</td>\n",
       "      <td>97</td>\n",
       "      <td>34</td>\n",
       "      <td>nie</td>\n",
       "      <td>288</td>\n",
       "      <td>276</td>\n",
       "    </tr>\n",
       "    <tr>\n",
       "      <th>3</th>\n",
       "      <td>60.3</td>\n",
       "      <td>139</td>\n",
       "      <td>tak</td>\n",
       "      <td>11.9</td>\n",
       "      <td>46</td>\n",
       "      <td>480</td>\n",
       "      <td>968</td>\n",
       "      <td>nie</td>\n",
       "      <td>19</td>\n",
       "      <td>135</td>\n",
       "      <td>53</td>\n",
       "      <td>nie</td>\n",
       "      <td>457</td>\n",
       "      <td>249</td>\n",
       "    </tr>\n",
       "    <tr>\n",
       "      <th>4</th>\n",
       "      <td>64.2</td>\n",
       "      <td>126</td>\n",
       "      <td>nie</td>\n",
       "      <td>12.2</td>\n",
       "      <td>106</td>\n",
       "      <td>599</td>\n",
       "      <td>989</td>\n",
       "      <td>nie</td>\n",
       "      <td>40</td>\n",
       "      <td>78</td>\n",
       "      <td>25</td>\n",
       "      <td>tak</td>\n",
       "      <td>593</td>\n",
       "      <td>171</td>\n",
       "    </tr>\n",
       "  </tbody>\n",
       "</table>\n",
       "</div>"
      ],
      "text/plain": [
       "   CrimeRate  Youth Southern  Education  ExpenditureYear0  LabourForce  Males  \\\n",
       "0       45.5    135      nie       12.4                69          540    965   \n",
       "1       52.3    140      nie       10.9                55          535   1045   \n",
       "2       56.6    157      tak       11.2                47          512    962   \n",
       "3       60.3    139      tak       11.9                46          480    968   \n",
       "4       64.2    126      nie       12.2               106          599    989   \n",
       "\n",
       "  MoreMales  StateSize  YouthUnemployment  MatureUnemployment  \\\n",
       "0       nie          6                 80                  22   \n",
       "1       tak          6                135                  40   \n",
       "2       nie         22                 97                  34   \n",
       "3       nie         19                135                  53   \n",
       "4       nie         40                 78                  25   \n",
       "\n",
       "  HighYouthUnemploy  Wage  BelowWage  \n",
       "0               tak   564        139  \n",
       "1               tak   453        200  \n",
       "2               nie   288        276  \n",
       "3               nie   457        249  \n",
       "4               tak   593        171  "
      ]
     },
     "execution_count": 5,
     "metadata": {},
     "output_type": "execute_result"
    }
   ],
   "source": [
    "df1 = df.loc[:, 'CrimeRate' : 'BelowWage']\n",
    "df1.head()"
   ]
  },
  {
   "cell_type": "code",
   "execution_count": 6,
   "id": "ba63a6a1",
   "metadata": {},
   "outputs": [
    {
     "data": {
      "text/html": [
       "<div>\n",
       "<style scoped>\n",
       "    .dataframe tbody tr th:only-of-type {\n",
       "        vertical-align: middle;\n",
       "    }\n",
       "\n",
       "    .dataframe tbody tr th {\n",
       "        vertical-align: top;\n",
       "    }\n",
       "\n",
       "    .dataframe thead th {\n",
       "        text-align: right;\n",
       "    }\n",
       "</style>\n",
       "<table border=\"1\" class=\"dataframe\">\n",
       "  <thead>\n",
       "    <tr style=\"text-align: right;\">\n",
       "      <th></th>\n",
       "      <th>CrimeRate10</th>\n",
       "      <th>Youth10</th>\n",
       "      <th>Southern</th>\n",
       "      <th>Education10</th>\n",
       "      <th>ExpenditureYear10</th>\n",
       "      <th>LabourForce10</th>\n",
       "      <th>Males10</th>\n",
       "      <th>MoreMales10</th>\n",
       "      <th>StateSize10</th>\n",
       "      <th>YouthUnemploy10</th>\n",
       "      <th>MatureUnemploy10</th>\n",
       "      <th>HighYouthUnemploy10</th>\n",
       "      <th>Wage10</th>\n",
       "      <th>BelowWage10</th>\n",
       "    </tr>\n",
       "  </thead>\n",
       "  <tbody>\n",
       "    <tr>\n",
       "      <th>0</th>\n",
       "      <td>26.5</td>\n",
       "      <td>135</td>\n",
       "      <td>nie</td>\n",
       "      <td>12.5</td>\n",
       "      <td>71</td>\n",
       "      <td>564</td>\n",
       "      <td>974</td>\n",
       "      <td>nie</td>\n",
       "      <td>6</td>\n",
       "      <td>82</td>\n",
       "      <td>20</td>\n",
       "      <td>tak</td>\n",
       "      <td>632</td>\n",
       "      <td>142</td>\n",
       "    </tr>\n",
       "    <tr>\n",
       "      <th>1</th>\n",
       "      <td>35.9</td>\n",
       "      <td>135</td>\n",
       "      <td>nie</td>\n",
       "      <td>10.9</td>\n",
       "      <td>54</td>\n",
       "      <td>540</td>\n",
       "      <td>1039</td>\n",
       "      <td>tak</td>\n",
       "      <td>7</td>\n",
       "      <td>138</td>\n",
       "      <td>39</td>\n",
       "      <td>tak</td>\n",
       "      <td>521</td>\n",
       "      <td>210</td>\n",
       "    </tr>\n",
       "    <tr>\n",
       "      <th>2</th>\n",
       "      <td>37.1</td>\n",
       "      <td>153</td>\n",
       "      <td>tak</td>\n",
       "      <td>11.0</td>\n",
       "      <td>44</td>\n",
       "      <td>529</td>\n",
       "      <td>959</td>\n",
       "      <td>nie</td>\n",
       "      <td>24</td>\n",
       "      <td>98</td>\n",
       "      <td>33</td>\n",
       "      <td>nie</td>\n",
       "      <td>359</td>\n",
       "      <td>256</td>\n",
       "    </tr>\n",
       "    <tr>\n",
       "      <th>3</th>\n",
       "      <td>42.7</td>\n",
       "      <td>139</td>\n",
       "      <td>tak</td>\n",
       "      <td>11.8</td>\n",
       "      <td>41</td>\n",
       "      <td>497</td>\n",
       "      <td>983</td>\n",
       "      <td>nie</td>\n",
       "      <td>20</td>\n",
       "      <td>131</td>\n",
       "      <td>50</td>\n",
       "      <td>nie</td>\n",
       "      <td>510</td>\n",
       "      <td>235</td>\n",
       "    </tr>\n",
       "    <tr>\n",
       "      <th>4</th>\n",
       "      <td>46.7</td>\n",
       "      <td>125</td>\n",
       "      <td>nie</td>\n",
       "      <td>12.2</td>\n",
       "      <td>97</td>\n",
       "      <td>602</td>\n",
       "      <td>989</td>\n",
       "      <td>nie</td>\n",
       "      <td>42</td>\n",
       "      <td>79</td>\n",
       "      <td>24</td>\n",
       "      <td>tak</td>\n",
       "      <td>660</td>\n",
       "      <td>162</td>\n",
       "    </tr>\n",
       "  </tbody>\n",
       "</table>\n",
       "</div>"
      ],
      "text/plain": [
       "   CrimeRate10  Youth10 Southern  Education10  ExpenditureYear10  \\\n",
       "0         26.5      135      nie         12.5                 71   \n",
       "1         35.9      135      nie         10.9                 54   \n",
       "2         37.1      153      tak         11.0                 44   \n",
       "3         42.7      139      tak         11.8                 41   \n",
       "4         46.7      125      nie         12.2                 97   \n",
       "\n",
       "   LabourForce10  Males10 MoreMales10  StateSize10  YouthUnemploy10  \\\n",
       "0            564      974         nie            6               82   \n",
       "1            540     1039         tak            7              138   \n",
       "2            529      959         nie           24               98   \n",
       "3            497      983         nie           20              131   \n",
       "4            602      989         nie           42               79   \n",
       "\n",
       "   MatureUnemploy10 HighYouthUnemploy10  Wage10  BelowWage10  \n",
       "0                20                 tak     632          142  \n",
       "1                39                 tak     521          210  \n",
       "2                33                 nie     359          256  \n",
       "3                50                 nie     510          235  \n",
       "4                24                 tak     660          162  "
      ]
     },
     "execution_count": 6,
     "metadata": {},
     "output_type": "execute_result"
    }
   ],
   "source": [
    "df2 = df.loc[:, 'CrimeRate10' : ]\n",
    "southern = df['Southern']\n",
    "df2.insert(2, 'Southern', southern)\n",
    "df2.head()"
   ]
  },
  {
   "cell_type": "markdown",
   "id": "242cf5ae",
   "metadata": {},
   "source": [
    "# Statystyka opisowa"
   ]
  },
  {
   "cell_type": "markdown",
   "id": "ca68827f",
   "metadata": {},
   "source": [
    "Biblioteka `pandas` umożliwia wykonanie dla struktury `DataFrame` statystyki opisowej poprzez pojedyncze wywołanie metody `describe()`. Domyślnie podaje ona dla każdej z cech:\n",
    "\n",
    "- liczność obserwacji,\n",
    "- wartość średnią,\n",
    "- odchylenie standardowe,\n",
    "- wartość minmalną,\n",
    "- wartość pierwszego kwartylu,\n",
    "- wartość drugiego kwartylu (medianę),\n",
    "- wartość trzeciego kwartylu,\n",
    "- wartość maksymalną.\n",
    "\n",
    "Domyślna implementacja została uzupełniona o wartości rozstępu, dominanty (mody), wariancji, współczynnika zmienności, skośności oraz kurtozy."
   ]
  },
  {
   "cell_type": "code",
   "execution_count": 7,
   "id": "498f709f",
   "metadata": {},
   "outputs": [
    {
     "data": {
      "text/html": [
       "<div>\n",
       "<style scoped>\n",
       "    .dataframe tbody tr th:only-of-type {\n",
       "        vertical-align: middle;\n",
       "    }\n",
       "\n",
       "    .dataframe tbody tr th {\n",
       "        vertical-align: top;\n",
       "    }\n",
       "\n",
       "    .dataframe thead th {\n",
       "        text-align: right;\n",
       "    }\n",
       "</style>\n",
       "<table border=\"1\" class=\"dataframe\">\n",
       "  <thead>\n",
       "    <tr style=\"text-align: right;\">\n",
       "      <th></th>\n",
       "      <th>CrimeRate</th>\n",
       "      <th>Youth</th>\n",
       "      <th>Education</th>\n",
       "      <th>ExpenditureYear0</th>\n",
       "      <th>LabourForce</th>\n",
       "      <th>Males</th>\n",
       "      <th>StateSize</th>\n",
       "      <th>YouthUnemployment</th>\n",
       "      <th>MatureUnemployment</th>\n",
       "      <th>Wage</th>\n",
       "      <th>BelowWage</th>\n",
       "    </tr>\n",
       "  </thead>\n",
       "  <tbody>\n",
       "    <tr>\n",
       "      <th>liczność</th>\n",
       "      <td>47.000000</td>\n",
       "      <td>47.000000</td>\n",
       "      <td>47.000000</td>\n",
       "      <td>47.000000</td>\n",
       "      <td>47.000000</td>\n",
       "      <td>47.000000</td>\n",
       "      <td>47.000000</td>\n",
       "      <td>47.000000</td>\n",
       "      <td>47.000000</td>\n",
       "      <td>47.000000</td>\n",
       "      <td>47.000000</td>\n",
       "    </tr>\n",
       "    <tr>\n",
       "      <th>średnia</th>\n",
       "      <td>102.808511</td>\n",
       "      <td>138.574468</td>\n",
       "      <td>12.391489</td>\n",
       "      <td>85.000000</td>\n",
       "      <td>561.191489</td>\n",
       "      <td>983.021277</td>\n",
       "      <td>36.617021</td>\n",
       "      <td>95.468085</td>\n",
       "      <td>33.978723</td>\n",
       "      <td>525.382979</td>\n",
       "      <td>194.000000</td>\n",
       "    </tr>\n",
       "    <tr>\n",
       "      <th>odch. st.</th>\n",
       "      <td>28.893266</td>\n",
       "      <td>12.567634</td>\n",
       "      <td>1.120332</td>\n",
       "      <td>29.718974</td>\n",
       "      <td>40.411814</td>\n",
       "      <td>29.467365</td>\n",
       "      <td>38.071188</td>\n",
       "      <td>18.028783</td>\n",
       "      <td>8.445450</td>\n",
       "      <td>96.490944</td>\n",
       "      <td>39.896061</td>\n",
       "    </tr>\n",
       "    <tr>\n",
       "      <th>w. min.</th>\n",
       "      <td>45.500000</td>\n",
       "      <td>119.000000</td>\n",
       "      <td>10.000000</td>\n",
       "      <td>45.000000</td>\n",
       "      <td>480.000000</td>\n",
       "      <td>934.000000</td>\n",
       "      <td>3.000000</td>\n",
       "      <td>70.000000</td>\n",
       "      <td>20.000000</td>\n",
       "      <td>288.000000</td>\n",
       "      <td>126.000000</td>\n",
       "    </tr>\n",
       "    <tr>\n",
       "      <th>1 kwartyl</th>\n",
       "      <td>82.700000</td>\n",
       "      <td>130.000000</td>\n",
       "      <td>11.550000</td>\n",
       "      <td>62.500000</td>\n",
       "      <td>530.500000</td>\n",
       "      <td>964.500000</td>\n",
       "      <td>10.000000</td>\n",
       "      <td>80.500000</td>\n",
       "      <td>27.500000</td>\n",
       "      <td>459.500000</td>\n",
       "      <td>165.500000</td>\n",
       "    </tr>\n",
       "    <tr>\n",
       "      <th>mediana</th>\n",
       "      <td>103.000000</td>\n",
       "      <td>136.000000</td>\n",
       "      <td>12.400000</td>\n",
       "      <td>78.000000</td>\n",
       "      <td>560.000000</td>\n",
       "      <td>977.000000</td>\n",
       "      <td>25.000000</td>\n",
       "      <td>92.000000</td>\n",
       "      <td>34.000000</td>\n",
       "      <td>537.000000</td>\n",
       "      <td>176.000000</td>\n",
       "    </tr>\n",
       "    <tr>\n",
       "      <th>3 kwartyl</th>\n",
       "      <td>120.650000</td>\n",
       "      <td>146.000000</td>\n",
       "      <td>13.200000</td>\n",
       "      <td>104.500000</td>\n",
       "      <td>593.000000</td>\n",
       "      <td>992.000000</td>\n",
       "      <td>41.500000</td>\n",
       "      <td>104.000000</td>\n",
       "      <td>38.500000</td>\n",
       "      <td>591.500000</td>\n",
       "      <td>227.500000</td>\n",
       "    </tr>\n",
       "    <tr>\n",
       "      <th>w. maks.</th>\n",
       "      <td>161.800000</td>\n",
       "      <td>177.000000</td>\n",
       "      <td>15.100000</td>\n",
       "      <td>166.000000</td>\n",
       "      <td>641.000000</td>\n",
       "      <td>1071.000000</td>\n",
       "      <td>168.000000</td>\n",
       "      <td>142.000000</td>\n",
       "      <td>58.000000</td>\n",
       "      <td>689.000000</td>\n",
       "      <td>276.000000</td>\n",
       "    </tr>\n",
       "    <tr>\n",
       "      <th>rozstęp</th>\n",
       "      <td>116.300000</td>\n",
       "      <td>58.000000</td>\n",
       "      <td>5.100000</td>\n",
       "      <td>121.000000</td>\n",
       "      <td>161.000000</td>\n",
       "      <td>137.000000</td>\n",
       "      <td>165.000000</td>\n",
       "      <td>72.000000</td>\n",
       "      <td>38.000000</td>\n",
       "      <td>401.000000</td>\n",
       "      <td>150.000000</td>\n",
       "    </tr>\n",
       "    <tr>\n",
       "      <th>moda</th>\n",
       "      <td>45.500000</td>\n",
       "      <td>126.000000</td>\n",
       "      <td>12.900000</td>\n",
       "      <td>58.000000</td>\n",
       "      <td>521.000000</td>\n",
       "      <td>964.000000</td>\n",
       "      <td>7.000000</td>\n",
       "      <td>102.000000</td>\n",
       "      <td>35.000000</td>\n",
       "      <td>557.000000</td>\n",
       "      <td>166.000000</td>\n",
       "    </tr>\n",
       "    <tr>\n",
       "      <th>wariancja</th>\n",
       "      <td>834.820796</td>\n",
       "      <td>157.945421</td>\n",
       "      <td>1.255143</td>\n",
       "      <td>883.217391</td>\n",
       "      <td>1633.114709</td>\n",
       "      <td>868.325624</td>\n",
       "      <td>1449.415356</td>\n",
       "      <td>325.037003</td>\n",
       "      <td>71.325624</td>\n",
       "      <td>9310.502313</td>\n",
       "      <td>1591.695652</td>\n",
       "    </tr>\n",
       "    <tr>\n",
       "      <th>wsp. zm.</th>\n",
       "      <td>0.281040</td>\n",
       "      <td>0.090692</td>\n",
       "      <td>0.090411</td>\n",
       "      <td>0.349635</td>\n",
       "      <td>0.072011</td>\n",
       "      <td>0.029976</td>\n",
       "      <td>1.039713</td>\n",
       "      <td>0.188846</td>\n",
       "      <td>0.248551</td>\n",
       "      <td>0.183658</td>\n",
       "      <td>0.205650</td>\n",
       "    </tr>\n",
       "    <tr>\n",
       "      <th>skośność</th>\n",
       "      <td>0.141890</td>\n",
       "      <td>0.877108</td>\n",
       "      <td>0.013953</td>\n",
       "      <td>0.949896</td>\n",
       "      <td>0.288851</td>\n",
       "      <td>1.059918</td>\n",
       "      <td>1.978741</td>\n",
       "      <td>0.826909</td>\n",
       "      <td>0.578677</td>\n",
       "      <td>-0.407600</td>\n",
       "      <td>0.391711</td>\n",
       "    </tr>\n",
       "    <tr>\n",
       "      <th>kurtoza</th>\n",
       "      <td>-0.537537</td>\n",
       "      <td>0.726196</td>\n",
       "      <td>-0.385285</td>\n",
       "      <td>0.475384</td>\n",
       "      <td>-0.748200</td>\n",
       "      <td>1.045476</td>\n",
       "      <td>3.870814</td>\n",
       "      <td>0.133682</td>\n",
       "      <td>0.487839</td>\n",
       "      <td>-0.427399</td>\n",
       "      <td>-1.039347</td>\n",
       "    </tr>\n",
       "  </tbody>\n",
       "</table>\n",
       "</div>"
      ],
      "text/plain": [
       "            CrimeRate       Youth  Education  ExpenditureYear0  LabourForce  \\\n",
       "liczność    47.000000   47.000000  47.000000         47.000000    47.000000   \n",
       "średnia    102.808511  138.574468  12.391489         85.000000   561.191489   \n",
       "odch. st.   28.893266   12.567634   1.120332         29.718974    40.411814   \n",
       "w. min.     45.500000  119.000000  10.000000         45.000000   480.000000   \n",
       "1 kwartyl   82.700000  130.000000  11.550000         62.500000   530.500000   \n",
       "mediana    103.000000  136.000000  12.400000         78.000000   560.000000   \n",
       "3 kwartyl  120.650000  146.000000  13.200000        104.500000   593.000000   \n",
       "w. maks.   161.800000  177.000000  15.100000        166.000000   641.000000   \n",
       "rozstęp    116.300000   58.000000   5.100000        121.000000   161.000000   \n",
       "moda        45.500000  126.000000  12.900000         58.000000   521.000000   \n",
       "wariancja  834.820796  157.945421   1.255143        883.217391  1633.114709   \n",
       "wsp. zm.     0.281040    0.090692   0.090411          0.349635     0.072011   \n",
       "skośność     0.141890    0.877108   0.013953          0.949896     0.288851   \n",
       "kurtoza     -0.537537    0.726196  -0.385285          0.475384    -0.748200   \n",
       "\n",
       "                 Males    StateSize  YouthUnemployment  MatureUnemployment  \\\n",
       "liczność     47.000000    47.000000          47.000000           47.000000   \n",
       "średnia     983.021277    36.617021          95.468085           33.978723   \n",
       "odch. st.    29.467365    38.071188          18.028783            8.445450   \n",
       "w. min.     934.000000     3.000000          70.000000           20.000000   \n",
       "1 kwartyl   964.500000    10.000000          80.500000           27.500000   \n",
       "mediana     977.000000    25.000000          92.000000           34.000000   \n",
       "3 kwartyl   992.000000    41.500000         104.000000           38.500000   \n",
       "w. maks.   1071.000000   168.000000         142.000000           58.000000   \n",
       "rozstęp     137.000000   165.000000          72.000000           38.000000   \n",
       "moda        964.000000     7.000000         102.000000           35.000000   \n",
       "wariancja   868.325624  1449.415356         325.037003           71.325624   \n",
       "wsp. zm.      0.029976     1.039713           0.188846            0.248551   \n",
       "skośność      1.059918     1.978741           0.826909            0.578677   \n",
       "kurtoza       1.045476     3.870814           0.133682            0.487839   \n",
       "\n",
       "                  Wage    BelowWage  \n",
       "liczność     47.000000    47.000000  \n",
       "średnia     525.382979   194.000000  \n",
       "odch. st.    96.490944    39.896061  \n",
       "w. min.     288.000000   126.000000  \n",
       "1 kwartyl   459.500000   165.500000  \n",
       "mediana     537.000000   176.000000  \n",
       "3 kwartyl   591.500000   227.500000  \n",
       "w. maks.    689.000000   276.000000  \n",
       "rozstęp     401.000000   150.000000  \n",
       "moda        557.000000   166.000000  \n",
       "wariancja  9310.502313  1591.695652  \n",
       "wsp. zm.      0.183658     0.205650  \n",
       "skośność     -0.407600     0.391711  \n",
       "kurtoza      -0.427399    -1.039347  "
      ]
     },
     "execution_count": 7,
     "metadata": {},
     "output_type": "execute_result"
    }
   ],
   "source": [
    "stats = df1.describe()\n",
    "stats.loc['rozstęp'] = stats.loc['max'] - stats.loc['min']\n",
    "stats.loc['moda'] = df1.mode().iloc[0]\n",
    "stats.loc['wariancja'] = df1.var(numeric_only=True).tolist()\n",
    "stats.loc['wsp. zm.'] = stats.loc['std'] / stats.loc['mean']\n",
    "stats.loc['skośność'] = df1.skew(numeric_only=True).tolist()\n",
    "stats.loc['kurtoza'] = df1.kurtosis(numeric_only=True).tolist()\n",
    "stats = stats.rename(index={'count' : 'liczność', 'mean' : 'średnia', 'std' : 'odch. st.', 'min' : 'w. min.', \n",
    "                    '25%' : '1 kwartyl', '50%' : 'mediana', '75%' : '3 kwartyl', 'max' : 'w. maks.'})\n",
    "stats"
   ]
  },
  {
   "cell_type": "markdown",
   "id": "e0d9382c",
   "metadata": {},
   "source": [
    "#### Przykładowe odczytane informacje\n",
    "1. średnio wśród $1000$ mężczyzn jest ok. $139$ mężczyzn w wieku 18-24,\n",
    "2. mediana wydatków *per capita* na policję to $78$ dolarów rocznie,\n",
    "3. maksymalna liczba pracujących mężczyzn w wieku 18-24 na $1000$ mężczyzn w wieku 18-24 w pojedynczym stanie to $641$,\n",
    "4. rozstęp mediany pensji wynosi $401$ dolarów,\n",
    "5. minimalna wartość stopy bezrobocia wśród mężczyzn w wieku 18-24 to $\\frac{70}{1000}=7\\%$, a w wieku 35-39 jest to $\\frac{20}{1000}=2\\%$,\n",
    "6. współczynnik zmienności w liczbie ludności stanów jest zbliżony do $1$, co oznacza, że odchylenie standardowe i średnia są dla tej cechy niemal jednakowe."
   ]
  },
  {
   "cell_type": "markdown",
   "id": "2c4ba465",
   "metadata": {},
   "source": [
    "Liczba ludności stanu (*StateSize*) charakteryzuje się dodatnią skośnością równą $1.98$. Świadczy to o prawostronnej asymetrii rozkładu wartości cechy, co można zobaczyć na poniższym histogramie. Wartość średnia tej cechy jest większa niż jej mediana.\n",
    "\n",
    "Podobnie dodatnia kurtoza równa $3.87$ informuje o smukłym (*leptokurtycznym*) rozkładzie, tj. większym skupieniu obserwacji wokół średniej ($36.6$). Potwierdza to rozkład empiryczny prezentowany na histogramie, gdzie dwa prostokąty są wyraźnie wyższe od czterech pozostałych."
   ]
  },
  {
   "cell_type": "code",
   "execution_count": 8,
   "id": "ec94ef04",
   "metadata": {},
   "outputs": [
    {
     "data": {
      "image/png": "[encoded data removed]",
      "text/plain": [
       "<Figure size 720x360 with 1 Axes>"
      ]
     },
     "metadata": {
      "needs_background": "light"
     },
     "output_type": "display_data"
    }
   ],
   "source": [
    "hist = df1.hist(column='StateSize', bins=6)\n",
    "plt.title(\"Histogram cechy $\\it{StateSize}$\")\n",
    "plt.xlabel(\"Liczba ludności stanu (w setkach tysięcy mieszkańców)\")\n",
    "plt.show()"
   ]
  },
  {
   "cell_type": "markdown",
   "id": "18d26d2c",
   "metadata": {},
   "source": [
    "## Wykres pudełkowy\n",
    "\n",
    "Wygodnym narzędziem graficznej interpretacji danych statystycznych jest wykres pudełkowy, na którym dla wybranej cechy oznaczone są wartości pierwszego kwartylu ($Q1$), mediany oraz trzeciego kwartylu ($Q3$) (tworzące *pudełko*), a *wąsy* mają maksymalną długość półtora rozstępu międzykwartylowego: $IQR=1.5\\cdot(Q3-Q1)$. Na wykresach tego typu można porównać parametry statystyczne cechy pomiędzy różnymi grupami obserwacji, np. w stanach południowych i niepołudniowych."
   ]
  },
  {
   "cell_type": "markdown",
   "id": "64d0669e",
   "metadata": {},
   "source": [
    "#### Porównanie poziomu bezrobocia wśród młodych i  współczynnika przestępczości w zależności od położenia stanu na południu lub nie"
   ]
  },
  {
   "cell_type": "code",
   "execution_count": 9,
   "id": "b606b6df",
   "metadata": {},
   "outputs": [
    {
     "data": {
      "image/png": "[encoded data removed]",
      "text/plain": [
       "<Figure size 720x360 with 2 Axes>"
      ]
     },
     "metadata": {
      "needs_background": "light"
     },
     "output_type": "display_data"
    }
   ],
   "source": [
    "boxpl1 = df1.boxplot(column=['YouthUnemployment', 'CrimeRate'], by=['Southern'])"
   ]
  },
  {
   "cell_type": "markdown",
   "id": "d59263f1",
   "metadata": {},
   "source": [
    "Parametry bezrobocia wśród młodych są do siebie zbliżone w obu rodzajach stanów. Natomiast współczynnik przestępczości ma ponaddwukrotnie mniejszy rozstęp międzykwartylowy w stanach południowych, co świadczy o większej koncentracji obserwacji."
   ]
  },
  {
   "cell_type": "markdown",
   "id": "f5ae1e8f",
   "metadata": {},
   "source": [
    "#### Porównanie wartości współczynnika przestępczości w zależności od przewagi liczebnej mężczyzn w stanie"
   ]
  },
  {
   "cell_type": "code",
   "execution_count": 10,
   "id": "95ef3e95",
   "metadata": {},
   "outputs": [
    {
     "data": {
      "image/png": "[encoded data removed]",
      "text/plain": [
       "<Figure size 720x360 with 1 Axes>"
      ]
     },
     "metadata": {
      "needs_background": "light"
     },
     "output_type": "display_data"
    }
   ],
   "source": [
    "boxpl12 = df1.boxplot(column=['CrimeRate'], by=['MoreMales'])"
   ]
  },
  {
   "cell_type": "markdown",
   "id": "8ab5f643",
   "metadata": {},
   "source": [
    "Różnice we współczynniku przestępczości nie są znaczne, wartości maksymalne i minimalne są bardzo zbliżone, natomiast w stanach, w których mieszka więcej mężczyzn niż kobiet, mamy większą medianę i trzeci kwartyl współczynnika."
   ]
  },
  {
   "cell_type": "markdown",
   "id": "32ac9785",
   "metadata": {},
   "source": [
    "#### Porównanie liczby ludności  w stanach z wysokim i niskim wskaźnikiem bezrobocia wśród młodych mężczyzn w stosunku do dojrzałych mężczyzn"
   ]
  },
  {
   "cell_type": "code",
   "execution_count": 11,
   "id": "b4e2de92",
   "metadata": {},
   "outputs": [
    {
     "data": {
      "image/png": "[encoded data removed]",
      "text/plain": [
       "<Figure size 720x360 with 1 Axes>"
      ]
     },
     "metadata": {
      "needs_background": "light"
     },
     "output_type": "display_data"
    }
   ],
   "source": [
    "boxpl3 = df1.boxplot(column=['StateSize'], by=['HighYouthUnemploy'])"
   ]
  },
  {
   "cell_type": "markdown",
   "id": "87995dda",
   "metadata": {},
   "source": [
    "Stany z niskim wskaźnikiem bezrobocia młodzi/dojrzali mają zróżnicowaną liczbę ludności -- w $75\\%$ poniżej 5 milionów, natomiast zdarzają się wartości odstające sięgające powyżej 15 milionów. Stany z wysokim wskaźnikiem bezrobocia młodzi/dojrzali są stosunkowo małe -- w $75\\%$ poniżej $2.5$ miliona mieszkańców."
   ]
  },
  {
   "cell_type": "markdown",
   "id": "77d46f9b",
   "metadata": {},
   "source": [
    "# Testy parametryczne"
   ]
  },
  {
   "cell_type": "markdown",
   "id": "2c17794b",
   "metadata": {},
   "source": [
    "## Test t-Studenta dla danych zależnych"
   ]
  },
  {
   "cell_type": "markdown",
   "id": "6321a5ad",
   "metadata": {},
   "source": [
    "Porównana zostanie wartość współczynnika przestępczości w roku 0 (kiedy pierwszy raz przeprowadzono badania) i po 10 latach w różnych stanach USA. Są to dane zależne, ponieważ opisują ten sam parametr dla tej samej grupy stanów, ale w innym czasie. Liczność każdej z grup próbek wynosi $47$, więc przekracza wymaganą dla testu wartość ok. 20-25 obserwacji."
   ]
  },
  {
   "cell_type": "code",
   "execution_count": 12,
   "id": "e52d5849",
   "metadata": {},
   "outputs": [],
   "source": [
    "x0 = df1['CrimeRate']\n",
    "x1 = df2['CrimeRate10']"
   ]
  },
  {
   "cell_type": "markdown",
   "id": "cbf20b9e",
   "metadata": {},
   "source": [
    "Aby móc zastosować parowy test t-Studenta dla danych zależnych, należy zweryfikować założenie o normalności rozkładu różnic w grupach. Wykorzystany zostanie do tego test Shapiro-Wilka z hipotezą zerową, że dane pochodzą z rozkładu normalnego. Założony poziom istotności $\\alpha = 0.05$."
   ]
  },
  {
   "cell_type": "code",
   "execution_count": 13,
   "id": "80e83e25",
   "metadata": {},
   "outputs": [
    {
     "name": "stdout",
     "output_type": "stream",
     "text": [
      "False\n"
     ]
    }
   ],
   "source": [
    "alpha = 0.05\n",
    "diff = x0 - x1\n",
    "statistic, pval = shapiro(diff)\n",
    "print(pval <= alpha)"
   ]
  },
  {
   "cell_type": "markdown",
   "id": "82ddb0b8",
   "metadata": {},
   "source": [
    "Ponieważ p wartość testu Shapiro-Wilka jest większa niż założony poziom istotności testu, nie ma podstaw do odrzucenia hipotezy o normalnym rozkładzie różnic pomiędzy testowanymi grupami. Można zatem wykonać test t-Studenta z poziomem istotności $\\alpha=0.05$.\n",
    "\n",
    "**Hipoteza zerowa**: brak statystycznie istotnych różnic między średnimi wartościami współczynnika przestępczości w roku 0 i po 10 latach."
   ]
  },
  {
   "cell_type": "code",
   "execution_count": 14,
   "id": "35bc97f0",
   "metadata": {},
   "outputs": [
    {
     "name": "stdout",
     "output_type": "stream",
     "text": [
      "False\n"
     ]
    }
   ],
   "source": [
    "alpha = 0.05\n",
    "statistic, pval = ttest_rel(x0, x1)\n",
    "print(pval <= alpha)"
   ]
  },
  {
   "cell_type": "markdown",
   "id": "2ea23051",
   "metadata": {},
   "source": [
    "Brak podstaw do odrzucenia hipotezy zerowej, zatem nie można stwierdzić, że w statystycznym sensie średni współczynnik przestępczości na przestrzeni 10 lat zmienił się."
   ]
  },
  {
   "cell_type": "markdown",
   "id": "819c5b6b",
   "metadata": {},
   "source": [
    "## Test t-Studenta dla danych niezależnych"
   ]
  },
  {
   "cell_type": "markdown",
   "id": "f097d6d2",
   "metadata": {},
   "source": [
    "Testy danych niezależnych porównują ten sam parametr dla różnych grup. Przeanalizowana zostanie średnia liczba lat edukacji mieszkańca przed osiągnięciem 25 roku życia w stanach południowych i niepołudniowych. Na początek zbadane zostanie (testem Shapiro-Wilka z $\\alpha=0.05$), czy dane w obu grupach pochodzą z rozkładu normalnego."
   ]
  },
  {
   "cell_type": "code",
   "execution_count": 15,
   "id": "d407b0fd",
   "metadata": {},
   "outputs": [
    {
     "name": "stdout",
     "output_type": "stream",
     "text": [
      "False False\n"
     ]
    }
   ],
   "source": [
    "x0 = df1['Education'][df1['Southern']=='tak']\n",
    "x1 = df1['Education'][df1['Southern']=='nie']\n",
    "alpha = 0.05\n",
    "statistic1, pval1 = shapiro(x0)\n",
    "statistic2, pval2 = shapiro(x1)\n",
    "print(pval1 <= alpha, pval2 <= alpha)"
   ]
  },
  {
   "cell_type": "markdown",
   "id": "6af1b8f2",
   "metadata": {},
   "source": [
    "Brak podstaw do odrzucenia H0 mówiącej o normalności rozkładów x0 i x1, zatem spełnione jest pierwsze założenie testu t-Studenta dla danych niezależnych. W drugim kroku zostanie zbadana równość wariancji w obu grupach. Wykorzystany zostanie tutaj test Bartletta o poziomie istotności $\\alpha=0.05$ z H0, że obie próbki pochodzą z populacji o równych wariancjach."
   ]
  },
  {
   "cell_type": "code",
   "execution_count": 16,
   "id": "1f26cc35",
   "metadata": {},
   "outputs": [
    {
     "name": "stdout",
     "output_type": "stream",
     "text": [
      "False\n"
     ]
    }
   ],
   "source": [
    "statistic, pval = bartlett(x0, x1)\n",
    "print(pval <= alpha)"
   ]
  },
  {
   "cell_type": "markdown",
   "id": "5eddd00e",
   "metadata": {},
   "source": [
    "Brak podstaw do odrzucenia hipotezy zerowej -- spełnione drugie założenie t-testu dla danych niezależnych. Można zatem wykonać test t-Studenta z poziomem istotności $\\alpha=0.05$.\n",
    "\n",
    "**Hipoteza zerowa**: brak statystycznie istotnych różnic między średnią liczbą lat edukacji do 25 roku życia w stanach południowych i niepołudniowych."
   ]
  },
  {
   "cell_type": "code",
   "execution_count": 17,
   "id": "ec5106dc",
   "metadata": {},
   "outputs": [
    {
     "name": "stdout",
     "output_type": "stream",
     "text": [
      "True\n"
     ]
    }
   ],
   "source": [
    "statistic, pval = ttest_ind(x0, x1)\n",
    "print(pval <= alpha)"
   ]
  },
  {
   "cell_type": "markdown",
   "id": "9442e872",
   "metadata": {},
   "source": [
    "Wobec p wartości mniejszej od zadanego progu istotności należy przyjąć hipotezę alternatywną: istnieje statystycznie istotna różnica w średniej liczbie lat edukacji pomiędzy stanami południowymi a pozostałymi."
   ]
  },
  {
   "cell_type": "code",
   "execution_count": 18,
   "id": "2ed27dbf",
   "metadata": {},
   "outputs": [
    {
     "name": "stdout",
     "output_type": "stream",
     "text": [
      "W stanach południowych młodzież średnio uczy się 11.6 lat, a w pozostałych stanach 12.8 i jest to statystycznie istotna różnica.\n"
     ]
    }
   ],
   "source": [
    "print(\"W stanach południowych młodzież średnio uczy się {mean0:.1f} lat, a w pozostałych stanach {mean1:.1f} i jest to statystycznie istotna różnica.\".format(mean0 = x0.mean(), mean1 = x1.mean()))"
   ]
  },
  {
   "cell_type": "markdown",
   "id": "b0664dfb",
   "metadata": {},
   "source": [
    "## ANOVA"
   ]
  },
  {
   "cell_type": "markdown",
   "id": "849ca87e",
   "metadata": {},
   "source": [
    "ANOVA jest testem parametrycznym, który (wykorzystując analizę wariancji) pozwala porównać średnie w wielu niezależnych grupach obserwacji. Reprezentowane w danych stany USA uszeregowano względem liczby ludności i podzielono na trzy części: stany małe (15 stanów), średnie (15 stanów) i duże (17 stanów). Na tej podstawie utworzono trzy niezależne od siebie grupy obserwacji: liczba pracujących młodych mężczyzn w wieku 18-24 (na 1000 młodych mężczyzn) w stanach małych, w stanach średnich, w stanach dużych.\n",
    "\n",
    "Kolejno zbadano założenia testu parametrycznego ANOVA:\n",
    "\n",
    "1. normalność rozkładu w każdej z grup,\n",
    "2. równość wariancji pomiędzy grupami.\n",
    "\n",
    "Do zbadania pierwszej hipotezy zerowej posłużył test Shapiro-Wilka z poziomem istotności $\\alpha=0.05$, natomiast do określenia prawdziwości hipotezy zerowej mówiącej o równości wariancji wykorzystano test Bartletta, również z $\\alpha=0.05$. Wyniki nie dają podstaw do odrzucenia żadnej z hipotez, ponieważ otrzymane p wartości są zbyt duże. Płynącym z tego wnioskiem jest, że można wykonać test ANOVA, jako że jego założenia są spełnione."
   ]
  },
  {
   "cell_type": "code",
   "execution_count": 19,
   "id": "8c7ed520",
   "metadata": {},
   "outputs": [
    {
     "name": "stdout",
     "output_type": "stream",
     "text": [
      "False False False\n",
      "False\n"
     ]
    }
   ],
   "source": [
    "orderedStateSizes = df1['StateSize'].sort_values()\n",
    "smallStateInd = orderedStateSizes[:15].index\n",
    "mediumStateInd = orderedStateSizes[15:30].index\n",
    "largeStateInd = orderedStateSizes[30:47].index\n",
    "x0 = df1['LabourForce'][smallStateInd]\n",
    "x1 = df1['LabourForce'][mediumStateInd]\n",
    "x2 = df1['LabourForce'][largeStateInd]\n",
    "alpha = 0.05\n",
    "statistic1, pval1 = shapiro(x0)\n",
    "statistic2, pval2 = shapiro(x1)\n",
    "statistic3, pval3 = shapiro(x2)\n",
    "print(pval1 <= alpha, pval2 <= alpha, pval3 <= alpha)\n",
    "statistic4, pval4 = bartlett(x0, x1, x2)\n",
    "print(pval4 <= alpha)"
   ]
  },
  {
   "cell_type": "markdown",
   "id": "9e06593f",
   "metadata": {},
   "source": [
    "**Hipoteza zerowa**: średnio tyle samo młodych mężczyzn pracuje w stanach małych, w stanach średnich, a także w stanach dużych."
   ]
  },
  {
   "cell_type": "code",
   "execution_count": 20,
   "id": "8cf456ba",
   "metadata": {},
   "outputs": [
    {
     "name": "stdout",
     "output_type": "stream",
     "text": [
      "False\n",
      "W stanach małych pracuje średnio 576 młodych mężczyzn na 1000 młodych mężczyzn, w stanach średnich - 551, a w stanach dużych - 557. Brak statystycznie istotnej różnicy między tymi wartościami.\n"
     ]
    }
   ],
   "source": [
    "alpha = 0.05\n",
    "statistic, pval = f_oneway(x0, x1, x2)\n",
    "print(pval <= alpha)\n",
    "print(\"W stanach małych pracuje średnio {mean0:.0f} młodych mężczyzn na 1000 młodych mężczyzn, w stanach średnich - {mean1:.0f}, a w stanach dużych - {mean2:.0f}. Brak statystycznie istotnej różnicy między tymi wartościami.\".format(mean0 = x0.mean(), mean1 = x1.mean(), mean2 = x2.mean()))"
   ]
  },
  {
   "cell_type": "markdown",
   "id": "37a31ec0",
   "metadata": {},
   "source": [
    "Przy przyjętym poziomie istotnośći $\\alpha=0.05$ brak podstaw do odrzucenia hipotezy zerowej o równości średnich w trzech grupach."
   ]
  },
  {
   "cell_type": "markdown",
   "id": "f7690ae3",
   "metadata": {},
   "source": [
    "# Testy nieparametryczne"
   ]
  },
  {
   "cell_type": "markdown",
   "id": "c6f2459c",
   "metadata": {},
   "source": [
    "## Test Wilcoxona"
   ]
  },
  {
   "cell_type": "markdown",
   "id": "26833dd1",
   "metadata": {},
   "source": [
    "Test Wilcoxona jest alternatywą dla parowego testu t-Studenta dla danych zależnych, kiedy różnice pomiędzy dwiema grupami nie mają rozkładu normalnego. Rozważmy dwie grupy: liczbę rodzin żyjących w ubóstwie (za kwotę poniżej połowy przeciętnego tygodniowego wynagrodzenia; na 1000 rodzin) w różnych stanach USA w roku 0 i 10 lat później. Test Shapiro-Wilka na poziomie istotności $\\alpha=0.05$ pozwala odrzucić hipotezę zerową o normalności rozkładu różnic w grupach.  "
   ]
  },
  {
   "cell_type": "code",
   "execution_count": 21,
   "id": "35770ecc",
   "metadata": {},
   "outputs": [
    {
     "name": "stdout",
     "output_type": "stream",
     "text": [
      "True\n"
     ]
    }
   ],
   "source": [
    "x0 = df1['BelowWage']\n",
    "x1 = df2['BelowWage10']\n",
    "alpha = 0.05\n",
    "diff = x0 - x1\n",
    "statistic, pval = shapiro(diff)\n",
    "print(pval <= alpha)"
   ]
  },
  {
   "cell_type": "markdown",
   "id": "870ed7ac",
   "metadata": {},
   "source": [
    "**Hipoteza zerowa**: mediana różnicy w liczbie rodzin żyjących w ubóstwie w roku 0 i po 10 latach jest równa 0."
   ]
  },
  {
   "cell_type": "code",
   "execution_count": 22,
   "id": "a579b2e1",
   "metadata": {},
   "outputs": [
    {
     "name": "stdout",
     "output_type": "stream",
     "text": [
      "False\n"
     ]
    }
   ],
   "source": [
    "alpha = 0.05\n",
    "statistic, pval = wilcoxon(x0, x1)\n",
    "print(pval <= alpha)"
   ]
  },
  {
   "cell_type": "markdown",
   "id": "c6e3a651",
   "metadata": {},
   "source": [
    "Otrzymana p wartość nie jest mniejsza lub równa od zadanego poziomu istotności, zatem nie można odrzucić hipotezy zerowej. H0 w teście Wilcoxona można interpretować jako przypuszczenie o jednakowym rozkładzie badanej cechy w zależnych grupach, co znajduje potwierdzenie w histogramach."
   ]
  },
  {
   "cell_type": "code",
   "execution_count": 23,
   "id": "87ca5487",
   "metadata": {},
   "outputs": [
    {
     "data": {
      "image/png": "[encoded data removed]",
      "text/plain": [
       "<Figure size 720x360 with 1 Axes>"
      ]
     },
     "metadata": {
      "needs_background": "light"
     },
     "output_type": "display_data"
    }
   ],
   "source": [
    "x0.hist(alpha=0.5)\n",
    "x1.hist(alpha=0.5)\n",
    "plt.title(\"Porównanie histogramów liczby rodzin żyjących w ubóstwie początkowo i po 10 latach\")\n",
    "plt.xlabel(\"Liczba rodzin (na 1000 rodzin)\")\n",
    "plt.legend([\"Rok 0\", \"Rok 10\"])\n",
    "plt.show()"
   ]
  },
  {
   "cell_type": "markdown",
   "id": "61ba344e",
   "metadata": {},
   "source": [
    "## Test Manna-Whitneya"
   ]
  },
  {
   "cell_type": "markdown",
   "id": "3ec2cbb9",
   "metadata": {},
   "source": [
    "Test Manna-Whitneya jest nieparametryczną wersją testu t-Studenta dla danych niezależnych. Nie wymaga on założenia o normalności rozkładu wśród grup. Do testu wybrane zostały próbki reprezentujące liczbę mieszkańców żyjących w ubóstwie w zależności od położenia stanu: południowego lub nie, są one wzajemnie niezależne. Test Shapiro-Wilka pozwoli określić, czy rozkłady w grupach można uznać za normalne."
   ]
  },
  {
   "cell_type": "code",
   "execution_count": 24,
   "id": "4ecf222a",
   "metadata": {},
   "outputs": [
    {
     "name": "stdout",
     "output_type": "stream",
     "text": [
      "True False\n"
     ]
    }
   ],
   "source": [
    "x0 = df1['BelowWage'][df1['Southern']=='tak']\n",
    "x1 = df1['BelowWage'][df1['Southern']=='nie']\n",
    "alpha = 0.05\n",
    "statistic1, pval1 = shapiro(x0)\n",
    "statistic2, pval2 = shapiro(x1)\n",
    "print(pval1 <= alpha, pval2 <= alpha)"
   ]
  },
  {
   "cell_type": "markdown",
   "id": "f54d8fbc",
   "metadata": {},
   "source": [
    "W grupie stanów południowych odrzucono hipotezę zerową o normalności rozkładu cechy *BelowWage*, zatem test Manna-Whitneya jest dobrym wyborem do badania statystycznego ($\\alpha=0.05$).\n",
    "\n",
    "**Hipoteza zerowa**: rozkład liczby osób w ubóstwie jest taki sam wśród stanów południowych i wśród stanów niepołudniowych."
   ]
  },
  {
   "cell_type": "code",
   "execution_count": 25,
   "id": "7d1f175f",
   "metadata": {},
   "outputs": [
    {
     "name": "stdout",
     "output_type": "stream",
     "text": [
      "True\n"
     ]
    }
   ],
   "source": [
    "alpha = 0.05\n",
    "statistic, pval = mannwhitneyu(x0, x1)\n",
    "print(pval <= alpha)"
   ]
  },
  {
   "cell_type": "markdown",
   "id": "fd507e45",
   "metadata": {},
   "source": [
    "Dzięki odpowiednio małej wartości p hipoteza zerowa została odrzucona na rzecz hipotezy alternatywnej: rozkład cechy *BelowWage* jest inny dla stanów południowych, a inny dla stanów nieleżących na południu. Werdykt testu można potwierdzić, rysując odpowiednie histogramy."
   ]
  },
  {
   "cell_type": "code",
   "execution_count": 26,
   "id": "b5ffc185",
   "metadata": {},
   "outputs": [
    {
     "data": {
      "image/png": "[encoded data removed]",
      "text/plain": [
       "<Figure size 720x360 with 1 Axes>"
      ]
     },
     "metadata": {
      "needs_background": "light"
     },
     "output_type": "display_data"
    }
   ],
   "source": [
    "h1 = x0.hist(bins=5, alpha=0.5)\n",
    "h2 = x1.hist(bins=5, alpha=0.5)\n",
    "plt.title(\"Porównanie histogramów liczby rodzin żyjących w ubóstwie w różnych stanach USA\")\n",
    "plt.xlabel(\"Liczba rodzin (na 1000 rodzin)\")\n",
    "plt.legend([\"Stany południowe\", \"Stany niepołudniowe\"])\n",
    "plt.show()"
   ]
  },
  {
   "cell_type": "markdown",
   "id": "40f7eceb",
   "metadata": {},
   "source": [
    "# Test rang Friedmana"
   ]
  },
  {
   "cell_type": "markdown",
   "id": "039493a1",
   "metadata": {},
   "source": [
    "Do testu rang Friedmana został wykorzystany zbiór danych *Video_R.csv*, również pochodzący z zastobów Uniwersytetu Sheffield (do pobrania [tutaj](https://www.sheffield.ac.uk/mash/statistics/datasets)). Gromadzi on dane na temat odbioru przez pacjentów czterech różnych filmików, z których każdy w odmienny sposób informuje o stanie zdrowia pacjenta. Każdego przepytanego pacjenta poproszono między innymi, by w całkowitej skali 1-5 określił, jak dobrze zrozumiał każdy z filmów (im wyższa liczba, tym lepsze zrozumienie). Aby zweryfikować tezę, czy któreś z nagrań zostało zrozumiane lepiej niż pozostałe, można użyć testu rang Friedmana.\n",
    "\n",
    "Początkowo zbiór danych zostaje wczytany oraz zweryfikowane zostaje, że nie ma w nim pustych wartości oraz nie-liczb."
   ]
  },
  {
   "cell_type": "code",
   "execution_count": 27,
   "id": "2786fc8b",
   "metadata": {},
   "outputs": [
    {
     "name": "stdout",
     "output_type": "stream",
     "text": [
      "False False\n"
     ]
    },
    {
     "data": {
      "text/html": [
       "<div>\n",
       "<style scoped>\n",
       "    .dataframe tbody tr th:only-of-type {\n",
       "        vertical-align: middle;\n",
       "    }\n",
       "\n",
       "    .dataframe tbody tr th {\n",
       "        vertical-align: top;\n",
       "    }\n",
       "\n",
       "    .dataframe thead th {\n",
       "        text-align: right;\n",
       "    }\n",
       "</style>\n",
       "<table border=\"1\" class=\"dataframe\">\n",
       "  <thead>\n",
       "    <tr style=\"text-align: right;\">\n",
       "      <th></th>\n",
       "      <th>Person</th>\n",
       "      <th>Gender</th>\n",
       "      <th>Heardofcondition</th>\n",
       "      <th>Set</th>\n",
       "      <th>@1st</th>\n",
       "      <th>@2nd</th>\n",
       "      <th>@3rd</th>\n",
       "      <th>@4th</th>\n",
       "      <th>Combination</th>\n",
       "      <th>VideoAGenUnderstandingCONDITION</th>\n",
       "      <th>VideoBdoctorUnderstandingCONDITION</th>\n",
       "      <th>VideoCOldUnderstandingCONDITION</th>\n",
       "      <th>DEMOUnderstandingCONDITION</th>\n",
       "      <th>TotalAGen</th>\n",
       "      <th>TotalBdoc</th>\n",
       "      <th>TotalCOld</th>\n",
       "      <th>TotalDDEMO</th>\n",
       "    </tr>\n",
       "  </thead>\n",
       "  <tbody>\n",
       "    <tr>\n",
       "      <th>0</th>\n",
       "      <td>1</td>\n",
       "      <td>1</td>\n",
       "      <td>1</td>\n",
       "      <td>1</td>\n",
       "      <td>4</td>\n",
       "      <td>1</td>\n",
       "      <td>3</td>\n",
       "      <td>2</td>\n",
       "      <td>4132</td>\n",
       "      <td>5</td>\n",
       "      <td>5</td>\n",
       "      <td>3</td>\n",
       "      <td>5</td>\n",
       "      <td>25</td>\n",
       "      <td>23</td>\n",
       "      <td>13</td>\n",
       "      <td>22</td>\n",
       "    </tr>\n",
       "    <tr>\n",
       "      <th>1</th>\n",
       "      <td>2</td>\n",
       "      <td>2</td>\n",
       "      <td>1</td>\n",
       "      <td>1</td>\n",
       "      <td>4</td>\n",
       "      <td>1</td>\n",
       "      <td>3</td>\n",
       "      <td>2</td>\n",
       "      <td>4132</td>\n",
       "      <td>5</td>\n",
       "      <td>5</td>\n",
       "      <td>5</td>\n",
       "      <td>5</td>\n",
       "      <td>23</td>\n",
       "      <td>23</td>\n",
       "      <td>20</td>\n",
       "      <td>22</td>\n",
       "    </tr>\n",
       "    <tr>\n",
       "      <th>2</th>\n",
       "      <td>3</td>\n",
       "      <td>2</td>\n",
       "      <td>2</td>\n",
       "      <td>1</td>\n",
       "      <td>4</td>\n",
       "      <td>1</td>\n",
       "      <td>3</td>\n",
       "      <td>2</td>\n",
       "      <td>4132</td>\n",
       "      <td>4</td>\n",
       "      <td>4</td>\n",
       "      <td>2</td>\n",
       "      <td>5</td>\n",
       "      <td>20</td>\n",
       "      <td>17</td>\n",
       "      <td>14</td>\n",
       "      <td>23</td>\n",
       "    </tr>\n",
       "    <tr>\n",
       "      <th>3</th>\n",
       "      <td>4</td>\n",
       "      <td>2</td>\n",
       "      <td>0</td>\n",
       "      <td>1</td>\n",
       "      <td>4</td>\n",
       "      <td>1</td>\n",
       "      <td>3</td>\n",
       "      <td>2</td>\n",
       "      <td>4132</td>\n",
       "      <td>5</td>\n",
       "      <td>5</td>\n",
       "      <td>5</td>\n",
       "      <td>5</td>\n",
       "      <td>24</td>\n",
       "      <td>24</td>\n",
       "      <td>23</td>\n",
       "      <td>25</td>\n",
       "    </tr>\n",
       "    <tr>\n",
       "      <th>4</th>\n",
       "      <td>5</td>\n",
       "      <td>2</td>\n",
       "      <td>2</td>\n",
       "      <td>1</td>\n",
       "      <td>4</td>\n",
       "      <td>1</td>\n",
       "      <td>3</td>\n",
       "      <td>2</td>\n",
       "      <td>4132</td>\n",
       "      <td>5</td>\n",
       "      <td>5</td>\n",
       "      <td>4</td>\n",
       "      <td>5</td>\n",
       "      <td>25</td>\n",
       "      <td>22</td>\n",
       "      <td>18</td>\n",
       "      <td>23</td>\n",
       "    </tr>\n",
       "  </tbody>\n",
       "</table>\n",
       "</div>"
      ],
      "text/plain": [
       "   Person  Gender  Heardofcondition  Set  @1st  @2nd  @3rd  @4th  Combination  \\\n",
       "0       1       1                 1    1     4     1     3     2         4132   \n",
       "1       2       2                 1    1     4     1     3     2         4132   \n",
       "2       3       2                 2    1     4     1     3     2         4132   \n",
       "3       4       2                 0    1     4     1     3     2         4132   \n",
       "4       5       2                 2    1     4     1     3     2         4132   \n",
       "\n",
       "   VideoAGenUnderstandingCONDITION  VideoBdoctorUnderstandingCONDITION  \\\n",
       "0                                5                                   5   \n",
       "1                                5                                   5   \n",
       "2                                4                                   4   \n",
       "3                                5                                   5   \n",
       "4                                5                                   5   \n",
       "\n",
       "   VideoCOldUnderstandingCONDITION  DEMOUnderstandingCONDITION  TotalAGen  \\\n",
       "0                                3                           5         25   \n",
       "1                                5                           5         23   \n",
       "2                                2                           5         20   \n",
       "3                                5                           5         24   \n",
       "4                                4                           5         25   \n",
       "\n",
       "   TotalBdoc  TotalCOld  TotalDDEMO  \n",
       "0         23         13          22  \n",
       "1         23         20          22  \n",
       "2         17         14          23  \n",
       "3         24         23          25  \n",
       "4         22         18          23  "
      ]
     },
     "execution_count": 27,
     "metadata": {},
     "output_type": "execute_result"
    }
   ],
   "source": [
    "import scikit_posthocs as sp\n",
    "video_df = pd.read_csv(\"Video_R.csv\")\n",
    "print(video_df.isnull().values.any(), video_df.isna().values.any())\n",
    "video_df.head()"
   ]
  },
  {
   "cell_type": "markdown",
   "id": "54d808d8",
   "metadata": {},
   "source": [
    "Do testu Friedmana użyte zostaną wartości z czterech kolumn zbioru danych, zawierające kolejne noty wystawiane filmom przez pacjentów. Są to dane zależne (głosowała za każdym razem ta sama próba pacjentów, oceny zrozumiałości filmów są w takiej samej skali), zatem spełnione jest założenie testu, nie ma natomiast konieczności, by weryfikować normalność rozkładu. Każdy ciąg ocen składa się z 20 elementów, a założony poziom istotności testu $\\alpha=0.05$.\n",
    "\n",
    "**Hipoteza zerowa**: średnie zrozumienie jest takie samo dla każdego filmu."
   ]
  },
  {
   "cell_type": "code",
   "execution_count": 28,
   "id": "3712d057",
   "metadata": {},
   "outputs": [
    {
     "name": "stdout",
     "output_type": "stream",
     "text": [
      "True\n"
     ]
    }
   ],
   "source": [
    "vid1 = video_df[\"VideoAGenUnderstandingCONDITION\"]\n",
    "vid2 = video_df[\"VideoBdoctorUnderstandingCONDITION\"]\n",
    "vid3 = video_df[\"VideoCOldUnderstandingCONDITION\"]\n",
    "vid4 = video_df[\"DEMOUnderstandingCONDITION\"]\n",
    "\n",
    "alpha = 0.05\n",
    "statistic, pval = friedmanchisquare(vid1, vid2, vid3, vid4)\n",
    "print(pval <= alpha)"
   ]
  },
  {
   "cell_type": "markdown",
   "id": "4307ffc4",
   "metadata": {},
   "source": [
    "Na podstawie p-wartości **hipoteza zerowa zostaje odrzucona** na rzecz alternatywnej: filmy nie zostały średnio jednakowo dobrze zrozumiane. Można zatem przeprowadzić analizę post-hoc, by znaleźć pary filmów statystycznie różniące się w ocenach.\n",
    "\n",
    "Jako że żadne z nagrań nie jest jakkolwiek wyróżnione wśród pozostałych, do analizy wybrano test Nemenyi. Biblioteczna implementacja zwraca symetryczną macierz o wymiarach 4x4, w komórkach której znajdują się p-wartości testu. Odpowiednio mała wartość (< $\\alpha$) świadczy o istnieniu statystycznie istotnej różnicy między porównywanymi filmami."
   ]
  },
  {
   "cell_type": "code",
   "execution_count": 29,
   "id": "d568fc76",
   "metadata": {},
   "outputs": [
    {
     "data": {
      "text/html": [
       "<div>\n",
       "<style scoped>\n",
       "    .dataframe tbody tr th:only-of-type {\n",
       "        vertical-align: middle;\n",
       "    }\n",
       "\n",
       "    .dataframe tbody tr th {\n",
       "        vertical-align: top;\n",
       "    }\n",
       "\n",
       "    .dataframe thead th {\n",
       "        text-align: right;\n",
       "    }\n",
       "</style>\n",
       "<table border=\"1\" class=\"dataframe\">\n",
       "  <thead>\n",
       "    <tr style=\"text-align: right;\">\n",
       "      <th></th>\n",
       "      <th>1</th>\n",
       "      <th>2</th>\n",
       "      <th>3</th>\n",
       "      <th>4</th>\n",
       "    </tr>\n",
       "  </thead>\n",
       "  <tbody>\n",
       "    <tr>\n",
       "      <th>1</th>\n",
       "      <td>1.000000</td>\n",
       "      <td>0.848853</td>\n",
       "      <td>0.000372</td>\n",
       "      <td>0.887936</td>\n",
       "    </tr>\n",
       "    <tr>\n",
       "      <th>2</th>\n",
       "      <td>0.848853</td>\n",
       "      <td>1.000000</td>\n",
       "      <td>0.009405</td>\n",
       "      <td>0.412209</td>\n",
       "    </tr>\n",
       "    <tr>\n",
       "      <th>3</th>\n",
       "      <td>0.000372</td>\n",
       "      <td>0.009405</td>\n",
       "      <td>1.000000</td>\n",
       "      <td>0.000010</td>\n",
       "    </tr>\n",
       "    <tr>\n",
       "      <th>4</th>\n",
       "      <td>0.887936</td>\n",
       "      <td>0.412209</td>\n",
       "      <td>0.000010</td>\n",
       "      <td>1.000000</td>\n",
       "    </tr>\n",
       "  </tbody>\n",
       "</table>\n",
       "</div>"
      ],
      "text/plain": [
       "          1         2         3         4\n",
       "1  1.000000  0.848853  0.000372  0.887936\n",
       "2  0.848853  1.000000  0.009405  0.412209\n",
       "3  0.000372  0.009405  1.000000  0.000010\n",
       "4  0.887936  0.412209  0.000010  1.000000"
      ]
     },
     "execution_count": 29,
     "metadata": {},
     "output_type": "execute_result"
    }
   ],
   "source": [
    "results = sp.posthoc_nemenyi([vid1, vid2, vid3, vid4])\n",
    "results"
   ]
  },
  {
   "cell_type": "code",
   "execution_count": 30,
   "id": "a4f1634a",
   "metadata": {},
   "outputs": [
    {
     "data": {
      "image/png": "[encoded data removed]",
      "text/plain": [
       "<Figure size 720x360 with 2 Axes>"
      ]
     },
     "metadata": {
      "needs_background": "light"
     },
     "output_type": "display_data"
    },
    {
     "name": "stdout",
     "output_type": "stream",
     "text": [
      "Średnia vid1: 4.75, średnia vid2: 4.55, średnia vid3: 3.3, średnia vid4: 4.9\n"
     ]
    }
   ],
   "source": [
    "ax, cbar = sp.sign_plot(results)\n",
    "ax.set_title(\"Wizualizacja analizy post-hoc\")\n",
    "ax.set_xlabel(\"Numer filmu\")\n",
    "ax.set_ylabel(\"Numer filmu\")\n",
    "plt.show()\n",
    "\n",
    "print(\"Średnia vid1: {}, średnia vid2: {}, średnia vid3: {}, średnia vid4: {}\"\n",
    "      .format(vid1.mean(), vid2.mean(), vid3.mean(), vid4.mean()))"
   ]
  },
  {
   "cell_type": "markdown",
   "id": "f491c22a",
   "metadata": {},
   "source": [
    "Analiza wykresu pozwala stwierdzić, że pomiędzy filmami 1 i 2, 1 i 4 oraz 2 i 4 nie stwierdzono statystycznie istotnej różnicy (NS - *nonsignificant*) w ocenach ich zrozumienia przez pacjentów. Natomiast p-wartości mniejsze od $0.05$, a nawet od $0.01$, wystąpiły w parach 1-3, 2-3, 3-4, co oznacza statystycznie istotną różnicę w odbiorze filmów. Kolejno średni poziom zrozumienia wyniósł: \n",
    "- $4.75$ dla filmu 1, \n",
    "- $4.55$ dla filmu 2, \n",
    "- $3.3$ dla filmu 3, \n",
    "- $4.9$ dla filmu 4.\n",
    "\n",
    "Uzyskano zatem statystyczne potwierdzenie, że **film 3 został uznany za mniej zrozumiały niż pozostałe**."
   ]
  },
  {
   "cell_type": "markdown",
   "id": "1e5aa7dc",
   "metadata": {},
   "source": [
    "# Krzywe przeżycia, wykres Kaplana-Meiera"
   ]
  },
  {
   "cell_type": "markdown",
   "id": "f2dba90e",
   "metadata": {},
   "source": [
    "Do wykreślenia krzywych przeżycia postanowiono zbadać dane udostępnione na [stronie](https://dmkd.cs.vt.edu/projects/survival/data/) Uniwersytetu Stanowego Virginii, a zebrane z portalu [Kickstarter](https://www.kickstarter.com/). Jest to platforma do organizacji publicznych zbiórek wspierających biznesowe przedsięwzięcia o różnej skali -- organizator wyznacza finansowy cel i jeśli otrzyma pierwotnie założone finansowe wsparcie, rozpoczyna realizację przedsięwzięcia.\n",
    "\n",
    "W zbiorze danych zawarto informacje o 5229 projektach, dla których określono, w ile dni po starcie zbiórki projekt osiągnął sukces, zbierając wymaganą kwotę. Wśród 56 cech opisujących każdy projekt jest między innymi zmienna logiczna, która mówi, czy projekt był promowany w formie wideo, czy nie.\n",
    "\n",
    "Dla obu tych kategorii można wykreślić krzywe przeżycia, czyli funkcje prognozujące prawdopodobieństwo, że po upływie danej liczby dni projekt nie zbierze jeszcze pełnej kwoty. Użytym estymatorem funkcji przeżycia jest estymator Kaplana-Meiera.\n",
    "\n",
    "**Hipoteza zerowa**: szansa, że nie uda się przeprowadzić udanej zbiórki do 30 dnia jest taka sama dla projektów promowanych przez wideo i niepromowanych przez wideo."
   ]
  },
  {
   "cell_type": "code",
   "execution_count": 31,
   "id": "a8afd316",
   "metadata": {},
   "outputs": [
    {
     "name": "stdout",
     "output_type": "stream",
     "text": [
      "False False\n"
     ]
    },
    {
     "data": {
      "text/html": [
       "<div>\n",
       "<style scoped>\n",
       "    .dataframe tbody tr th:only-of-type {\n",
       "        vertical-align: middle;\n",
       "    }\n",
       "\n",
       "    .dataframe tbody tr th {\n",
       "        vertical-align: top;\n",
       "    }\n",
       "\n",
       "    .dataframe thead th {\n",
       "        text-align: right;\n",
       "    }\n",
       "</style>\n",
       "<table border=\"1\" class=\"dataframe\">\n",
       "  <thead>\n",
       "    <tr style=\"text-align: right;\">\n",
       "      <th></th>\n",
       "      <th>day_succ</th>\n",
       "      <th>Status</th>\n",
       "      <th>cat1</th>\n",
       "      <th>cat2</th>\n",
       "      <th>cat3</th>\n",
       "      <th>cat4</th>\n",
       "      <th>cat5</th>\n",
       "      <th>cat6</th>\n",
       "      <th>cat7</th>\n",
       "      <th>cat8</th>\n",
       "      <th>...</th>\n",
       "      <th>usr_net_bic</th>\n",
       "      <th>1f_plg</th>\n",
       "      <th>1f_bck</th>\n",
       "      <th>1prj_prom</th>\n",
       "      <th>2f_plg</th>\n",
       "      <th>2f_bck</th>\n",
       "      <th>2prj_prom</th>\n",
       "      <th>3f_plg</th>\n",
       "      <th>3f_bck</th>\n",
       "      <th>3prj_prom</th>\n",
       "    </tr>\n",
       "  </thead>\n",
       "  <tbody>\n",
       "    <tr>\n",
       "      <th>0</th>\n",
       "      <td>60</td>\n",
       "      <td>0</td>\n",
       "      <td>0</td>\n",
       "      <td>0</td>\n",
       "      <td>0</td>\n",
       "      <td>0</td>\n",
       "      <td>0</td>\n",
       "      <td>0</td>\n",
       "      <td>0</td>\n",
       "      <td>0</td>\n",
       "      <td>...</td>\n",
       "      <td>0.000000</td>\n",
       "      <td>-0.313453</td>\n",
       "      <td>-0.179145</td>\n",
       "      <td>0.000000</td>\n",
       "      <td>-0.319593</td>\n",
       "      <td>-0.172518</td>\n",
       "      <td>0.000000</td>\n",
       "      <td>-0.324429</td>\n",
       "      <td>-0.173517</td>\n",
       "      <td>0.000000</td>\n",
       "    </tr>\n",
       "    <tr>\n",
       "      <th>1</th>\n",
       "      <td>19</td>\n",
       "      <td>0</td>\n",
       "      <td>0</td>\n",
       "      <td>0</td>\n",
       "      <td>0</td>\n",
       "      <td>0</td>\n",
       "      <td>0</td>\n",
       "      <td>0</td>\n",
       "      <td>0</td>\n",
       "      <td>0</td>\n",
       "      <td>...</td>\n",
       "      <td>0.470316</td>\n",
       "      <td>-0.313453</td>\n",
       "      <td>-0.179145</td>\n",
       "      <td>-0.265049</td>\n",
       "      <td>-0.319593</td>\n",
       "      <td>-0.172518</td>\n",
       "      <td>-0.280888</td>\n",
       "      <td>-0.324429</td>\n",
       "      <td>-0.173517</td>\n",
       "      <td>-0.258752</td>\n",
       "    </tr>\n",
       "    <tr>\n",
       "      <th>2</th>\n",
       "      <td>11</td>\n",
       "      <td>1</td>\n",
       "      <td>0</td>\n",
       "      <td>1</td>\n",
       "      <td>0</td>\n",
       "      <td>0</td>\n",
       "      <td>0</td>\n",
       "      <td>0</td>\n",
       "      <td>0</td>\n",
       "      <td>0</td>\n",
       "      <td>...</td>\n",
       "      <td>0.000000</td>\n",
       "      <td>0.145388</td>\n",
       "      <td>-0.172303</td>\n",
       "      <td>0.000000</td>\n",
       "      <td>0.096156</td>\n",
       "      <td>-0.167501</td>\n",
       "      <td>0.000000</td>\n",
       "      <td>0.034410</td>\n",
       "      <td>-0.169265</td>\n",
       "      <td>0.000000</td>\n",
       "    </tr>\n",
       "    <tr>\n",
       "      <th>3</th>\n",
       "      <td>32</td>\n",
       "      <td>1</td>\n",
       "      <td>0</td>\n",
       "      <td>0</td>\n",
       "      <td>0</td>\n",
       "      <td>0</td>\n",
       "      <td>0</td>\n",
       "      <td>1</td>\n",
       "      <td>0</td>\n",
       "      <td>0</td>\n",
       "      <td>...</td>\n",
       "      <td>0.835936</td>\n",
       "      <td>0.079839</td>\n",
       "      <td>0.183493</td>\n",
       "      <td>-0.265049</td>\n",
       "      <td>0.058360</td>\n",
       "      <td>0.143569</td>\n",
       "      <td>-0.280888</td>\n",
       "      <td>0.034410</td>\n",
       "      <td>0.128363</td>\n",
       "      <td>-0.258752</td>\n",
       "    </tr>\n",
       "    <tr>\n",
       "      <th>4</th>\n",
       "      <td>28</td>\n",
       "      <td>1</td>\n",
       "      <td>0</td>\n",
       "      <td>0</td>\n",
       "      <td>0</td>\n",
       "      <td>0</td>\n",
       "      <td>0</td>\n",
       "      <td>0</td>\n",
       "      <td>0</td>\n",
       "      <td>0</td>\n",
       "      <td>...</td>\n",
       "      <td>-0.260923</td>\n",
       "      <td>-0.198743</td>\n",
       "      <td>-0.110723</td>\n",
       "      <td>-0.265049</td>\n",
       "      <td>-0.206207</td>\n",
       "      <td>-0.117328</td>\n",
       "      <td>-0.280888</td>\n",
       "      <td>-0.193942</td>\n",
       "      <td>-0.096984</td>\n",
       "      <td>-0.258752</td>\n",
       "    </tr>\n",
       "  </tbody>\n",
       "</table>\n",
       "<p>5 rows × 56 columns</p>\n",
       "</div>"
      ],
      "text/plain": [
       "   day_succ  Status  cat1  cat2  cat3  cat4  cat5  cat6  cat7  cat8  ...  \\\n",
       "0        60       0     0     0     0     0     0     0     0     0  ...   \n",
       "1        19       0     0     0     0     0     0     0     0     0  ...   \n",
       "2        11       1     0     1     0     0     0     0     0     0  ...   \n",
       "3        32       1     0     0     0     0     0     1     0     0  ...   \n",
       "4        28       1     0     0     0     0     0     0     0     0  ...   \n",
       "\n",
       "   usr_net_bic    1f_plg    1f_bck  1prj_prom    2f_plg    2f_bck  2prj_prom  \\\n",
       "0     0.000000 -0.313453 -0.179145   0.000000 -0.319593 -0.172518   0.000000   \n",
       "1     0.470316 -0.313453 -0.179145  -0.265049 -0.319593 -0.172518  -0.280888   \n",
       "2     0.000000  0.145388 -0.172303   0.000000  0.096156 -0.167501   0.000000   \n",
       "3     0.835936  0.079839  0.183493  -0.265049  0.058360  0.143569  -0.280888   \n",
       "4    -0.260923 -0.198743 -0.110723  -0.265049 -0.206207 -0.117328  -0.280888   \n",
       "\n",
       "     3f_plg    3f_bck  3prj_prom  \n",
       "0 -0.324429 -0.173517   0.000000  \n",
       "1 -0.324429 -0.173517  -0.258752  \n",
       "2  0.034410 -0.169265   0.000000  \n",
       "3  0.034410  0.128363  -0.258752  \n",
       "4 -0.193942 -0.096984  -0.258752  \n",
       "\n",
       "[5 rows x 56 columns]"
      ]
     },
     "execution_count": 31,
     "metadata": {},
     "output_type": "execute_result"
    }
   ],
   "source": [
    "kick_df = pd.read_csv(\"kickstarter_2.csv\")\n",
    "print(video_df.isnull().values.any(), video_df.isna().values.any())\n",
    "kick_df.shape\n",
    "kick_df.head()"
   ]
  },
  {
   "cell_type": "code",
   "execution_count": 32,
   "id": "c58dfac0",
   "metadata": {},
   "outputs": [
    {
     "data": {
      "image/png": "[encoded data removed]",
      "text/plain": [
       "<Figure size 720x360 with 1 Axes>"
      ]
     },
     "metadata": {
      "needs_background": "light"
     },
     "output_type": "display_data"
    }
   ],
   "source": [
    "from lifelines import KaplanMeierFitter\n",
    "\n",
    "has_video = kick_df[\"has_video\"] == 1\n",
    "days_video = kick_df[\"day_succ\"][has_video]\n",
    "days_no_video = kick_df[\"day_succ\"][~has_video]\n",
    "\n",
    "kmf_vid = KaplanMeierFitter().fit(days_video, label=\"Projekty z wideo\")\n",
    "kmf_vid.plot_survival_function()\n",
    "\n",
    "kmf_no_vid = KaplanMeierFitter().fit(days_no_video, label=\"Projekty bez wideo\")\n",
    "kmf_no_vid.plot_survival_function()\n",
    "\n",
    "plt.title(\"Krzywe przeżycia dla projektów w zależności od promowania z użyciem wideo\")\n",
    "plt.xlabel(\"Liczba dni\")\n",
    "plt.ylabel(\"Prawdopodobieństwo\")\n",
    "plt.show()"
   ]
  },
  {
   "cell_type": "markdown",
   "id": "b0d401a3",
   "metadata": {},
   "source": [
    "Na wykresie wyraźnie widać, że krzywe mają zbliżony przebieg. Prawdopodobieństwo, że projekt nie zbierze funduszy do dnia *d* po starcie maleje w podobny sposób niezależnie od użycia wideo - ok. 30 dnia szansa na brak sukcesu przedsięwzięcia wynosi mniej więcej $0.35$, natomiast przy 40 dniu już tylko ok. 10% projektów wciąż pozostaje bez zebranej pełnej kwoty. Najpóźniej udaje się to w okolicach 60 dnia po rozpoczęciu zbiórki.\n",
    "\n",
    "Do weryfikacji hipotezy zerowej posłuży specjalny biblioteczny test `survival_difference_at_fixed_point_in_time_test`, wykorzystujący transformację *log(-log)*. Otrzymana p-wartość znacznie przekracza poziom istotności $0.05$, czyli **hipoteza zerowa może zostać podtrzymana**."
   ]
  },
  {
   "cell_type": "code",
   "execution_count": 33,
   "id": "544d83e0",
   "metadata": {},
   "outputs": [
    {
     "name": "stdout",
     "output_type": "stream",
     "text": [
      "0.8805820523896237 False\n"
     ]
    }
   ],
   "source": [
    "from lifelines.statistics import survival_difference_at_fixed_point_in_time_test \n",
    "\n",
    "alpha = 0.05\n",
    "day_number = 30\n",
    "result = survival_difference_at_fixed_point_in_time_test(day_number, kmf_vid, kmf_no_vid)\n",
    "print(result.p_value, result.p_value <= alpha)"
   ]
  },
  {
   "cell_type": "markdown",
   "id": "344c0145",
   "metadata": {},
   "source": [
    "# Regresja logistyczna"
   ]
  },
  {
   "cell_type": "markdown",
   "id": "69e62f7e",
   "metadata": {},
   "source": [
    "Do wykonania regresji logistycznej i wizualizacji jakości klasyfikacji krzywą ROC wykorzystany zostanie zbiór danych z [KEEL](https://sci2s.ugr.es/keel/dataset.php?cod=21). Zgromadzone zostały tam dane 768 kobiet z plemienia Indian Pima -- 8 niezależnych cech oraz binarna wartość określająca, czy dana osoba jest chora na cukrzycę (1 -- chora, 0 -- zdrowa).\n",
    "\n",
    "Regresja logistyczna jest statystycznym modelem, który wykorzystuje tzw. funkcję logistyczną i dopasowuje ją na podstawie $n$ zmiennych niezależnych (predyktorów) do binarnej zmiennej zależnej. Na podstawie danych uczących metodą największej wiarygodności estymowane są parametry $\\beta_i$ występujące w funkcji logistycznej, zwracającej dla wektora wejściowego $X$ prawdopodobieństwo, że należy on do klasy 1:\n",
    "$$ \\theta = (\\beta_1, \\dots, \\beta_n)^T $$\n",
    "$$ p(Y=1 | X) = \\frac{1}{1 + e^{\\beta_0 + \\beta^TX}}$$\n",
    "\n",
    "Biblioteczna klasa `Logit` przeprowadza dopasowanie do danych i zwraca wyniki, w tym uzyskane współczynniki $\\beta$ oraz dla każdej zmiennej niezależnej wartość statystyki $Z$, która weryfikuje **hipotezę zerową**, że stowarzyszony z tą zmienną współczynnik $\\beta$ jest równy 0, a tym samym zmienna statystycznie nieistotna."
   ]
  },
  {
   "cell_type": "code",
   "execution_count": 34,
   "id": "42cb6fc7",
   "metadata": {},
   "outputs": [
    {
     "data": {
      "text/html": [
       "<div>\n",
       "<style scoped>\n",
       "    .dataframe tbody tr th:only-of-type {\n",
       "        vertical-align: middle;\n",
       "    }\n",
       "\n",
       "    .dataframe tbody tr th {\n",
       "        vertical-align: top;\n",
       "    }\n",
       "\n",
       "    .dataframe thead th {\n",
       "        text-align: right;\n",
       "    }\n",
       "</style>\n",
       "<table border=\"1\" class=\"dataframe\">\n",
       "  <thead>\n",
       "    <tr style=\"text-align: right;\">\n",
       "      <th></th>\n",
       "      <th>Preg</th>\n",
       "      <th>Plas</th>\n",
       "      <th>Pres</th>\n",
       "      <th>Skin</th>\n",
       "      <th>Insu</th>\n",
       "      <th>Mass</th>\n",
       "      <th>Pedi</th>\n",
       "      <th>Age</th>\n",
       "      <th>HasDiabetes</th>\n",
       "    </tr>\n",
       "  </thead>\n",
       "  <tbody>\n",
       "    <tr>\n",
       "      <th>0</th>\n",
       "      <td>14</td>\n",
       "      <td>175</td>\n",
       "      <td>62</td>\n",
       "      <td>30</td>\n",
       "      <td>0</td>\n",
       "      <td>33.6</td>\n",
       "      <td>0.212</td>\n",
       "      <td>38</td>\n",
       "      <td>1</td>\n",
       "    </tr>\n",
       "    <tr>\n",
       "      <th>1</th>\n",
       "      <td>4</td>\n",
       "      <td>146</td>\n",
       "      <td>78</td>\n",
       "      <td>0</td>\n",
       "      <td>0</td>\n",
       "      <td>38.5</td>\n",
       "      <td>0.520</td>\n",
       "      <td>67</td>\n",
       "      <td>1</td>\n",
       "    </tr>\n",
       "    <tr>\n",
       "      <th>2</th>\n",
       "      <td>15</td>\n",
       "      <td>136</td>\n",
       "      <td>70</td>\n",
       "      <td>32</td>\n",
       "      <td>110</td>\n",
       "      <td>37.1</td>\n",
       "      <td>0.153</td>\n",
       "      <td>43</td>\n",
       "      <td>1</td>\n",
       "    </tr>\n",
       "    <tr>\n",
       "      <th>3</th>\n",
       "      <td>3</td>\n",
       "      <td>107</td>\n",
       "      <td>62</td>\n",
       "      <td>13</td>\n",
       "      <td>48</td>\n",
       "      <td>22.9</td>\n",
       "      <td>0.678</td>\n",
       "      <td>23</td>\n",
       "      <td>1</td>\n",
       "    </tr>\n",
       "    <tr>\n",
       "      <th>4</th>\n",
       "      <td>3</td>\n",
       "      <td>169</td>\n",
       "      <td>74</td>\n",
       "      <td>19</td>\n",
       "      <td>125</td>\n",
       "      <td>29.9</td>\n",
       "      <td>0.268</td>\n",
       "      <td>31</td>\n",
       "      <td>1</td>\n",
       "    </tr>\n",
       "  </tbody>\n",
       "</table>\n",
       "</div>"
      ],
      "text/plain": [
       "   Preg  Plas  Pres  Skin  Insu  Mass   Pedi  Age HasDiabetes\n",
       "0    14   175    62    30     0  33.6  0.212   38           1\n",
       "1     4   146    78     0     0  38.5  0.520   67           1\n",
       "2    15   136    70    32   110  37.1  0.153   43           1\n",
       "3     3   107    62    13    48  22.9  0.678   23           1\n",
       "4     3   169    74    19   125  29.9  0.268   31           1"
      ]
     },
     "execution_count": 34,
     "metadata": {},
     "output_type": "execute_result"
    }
   ],
   "source": [
    "pima_df = pd.read_csv(\"pima.csv\")\n",
    "pima_df.rename(columns={\"Class\" : \"HasDiabetes\"}, inplace=True)\n",
    "isIll = pima_df[\"HasDiabetes\"] == \"tested_positive\"\n",
    "pima_df.loc[isIll, \"HasDiabetes\"] = 1\n",
    "pima_df.loc[~isIll, \"HasDiabetes\"] = 0\n",
    "pima_df.head()"
   ]
  },
  {
   "cell_type": "code",
   "execution_count": 35,
   "id": "2b8d8a92",
   "metadata": {},
   "outputs": [
    {
     "name": "stdout",
     "output_type": "stream",
     "text": [
      "Optimization terminated successfully.\n",
      "         Current function value: 0.470993\n",
      "         Iterations 6\n",
      "                           Logit Regression Results                           \n",
      "==============================================================================\n",
      "Dep. Variable:                      y   No. Observations:                  768\n",
      "Model:                          Logit   Df Residuals:                      759\n",
      "Method:                           MLE   Df Model:                            8\n",
      "Date:                Sun, 09 Jan 2022   Pseudo R-squ.:                  0.2718\n",
      "Time:                        01:13:06   Log-Likelihood:                -361.72\n",
      "converged:                       True   LL-Null:                       -496.74\n",
      "Covariance Type:            nonrobust   LLR p-value:                 9.652e-54\n",
      "==============================================================================\n",
      "                 coef    std err          z      P>|z|      [0.025      0.975]\n",
      "------------------------------------------------------------------------------\n",
      "const         -8.4047      0.717    -11.728      0.000      -9.809      -7.000\n",
      "x1             0.1232      0.032      3.840      0.000       0.060       0.186\n",
      "x2             0.0352      0.004      9.481      0.000       0.028       0.042\n",
      "x3            -0.0133      0.005     -2.540      0.011      -0.024      -0.003\n",
      "x4             0.0006      0.007      0.090      0.929      -0.013       0.014\n",
      "x5            -0.0012      0.001     -1.322      0.186      -0.003       0.001\n",
      "x6             0.0897      0.015      5.945      0.000       0.060       0.119\n",
      "x7             0.9452      0.299      3.160      0.002       0.359       1.531\n",
      "x8             0.0149      0.009      1.593      0.111      -0.003       0.033\n",
      "==============================================================================\n"
     ]
    }
   ],
   "source": [
    "import statsmodels.api as sm\n",
    "X = pima_df.iloc[:, :-1].to_numpy()\n",
    "y = pima_df.iloc[:, -1].to_numpy().astype('int')\n",
    "X_c = sm.add_constant(X)\n",
    "\n",
    "model = sm.Logit(y, X_c)\n",
    "results = model.fit()\n",
    "print(results.summary())"
   ]
  },
  {
   "cell_type": "markdown",
   "id": "f40799bf",
   "metadata": {},
   "source": [
    "Na podstawie p-wartości z tabeli przekraczających $\\alpha=0.05$ odrzucone zostają trzy cechy: czwarta, piąta i ósma.\n",
    "\n",
    "Zamodelowana na przekształconym zbiorze danych regresja logistyczna może służyć do klasyfikacji obserwacji. Ze względu na łatwiejsze API wykorzystana zostanie wersja z pakietu `sklearn`."
   ]
  },
  {
   "cell_type": "code",
   "execution_count": 36,
   "id": "fadf71da",
   "metadata": {},
   "outputs": [
    {
     "name": "stdout",
     "output_type": "stream",
     "text": [
      "0.78125\n"
     ]
    }
   ],
   "source": [
    "from sklearn.linear_model import LogisticRegression\n",
    "from sklearn.model_selection import train_test_split\n",
    "from sklearn.metrics import accuracy_score\n",
    "\n",
    "pima = pd.read_csv(\"pima.csv\")\n",
    "pima.rename(columns={\"Class\" : \"HasDiabetes\"}, inplace=True)\n",
    "isIll = pima[\"HasDiabetes\"] == \"tested_positive\"\n",
    "pima.loc[isIll, \"HasDiabetes\"] = 1\n",
    "pima.loc[~isIll, \"HasDiabetes\"] = 0\n",
    "pima.drop(columns=pima_df.columns[[3, 4, 7]], inplace=True) # eliminiacja słabo dyskryminujących cech\n",
    "pima.head()\n",
    "\n",
    "X = pima.iloc[:, :-1].to_numpy()\n",
    "y = pima.iloc[:, -1].to_numpy().astype('int')\n",
    "\n",
    "X_train, X_test, y_train, y_test = train_test_split(X, y, random_state=444)\n",
    "clf = LogisticRegression(random_state=444).fit(X_train, y_train)\n",
    "y_pos_class_probab_LR = clf.predict_proba(X_test)[:, 1] # przewidywane prawdopodobieństwa dla klasy 1\n",
    "y_pred = clf.predict(X_test) # przewidywane klasy na zbiorze testowym\n",
    "print(accuracy_score(y_test, y_pred))"
   ]
  },
  {
   "cell_type": "markdown",
   "id": "1765afd0",
   "metadata": {},
   "source": [
    "Uzyskana dokładność klasyfikacji na zbiorze testowym przy pojedynczym podziale na zbiór treningowy i testowy wyniosła $0.78$."
   ]
  },
  {
   "cell_type": "markdown",
   "id": "97897fa3",
   "metadata": {},
   "source": [
    "# Wizualizacja jakości klasyfikacji (ROC)"
   ]
  },
  {
   "cell_type": "markdown",
   "id": "7152a8a6",
   "metadata": {},
   "source": [
    "Do dokładniejszego określenia jakości klasyfikacji z poprzedniego punktu może posłużyć macierz konfuzji, która w zadaniu klasyfikacji binarnej składa się z czterech liczb:\n",
    "- wartości TN (*true negative*), czyli liczby poprawnie sklasyfikowanych przypadków negatywnych (rzeczywista klasa 0),\n",
    "- wartości FP (*false positive*), czyli liczby błędnie sklasyfikowanych przypadków negatywnych (rzeczywista klasa 0),\n",
    "- wartości FN (*false negative*), czyli liczby błędnie sklasyfikowanych przypadków pozytywnych (rzeczywista klasa 1),\n",
    "- wartości TP (*true positive*), czyli liczby poprawnie sklasyfikowanych przypadków pozytywnych (rzeczywista klasa 1)."
   ]
  },
  {
   "cell_type": "code",
   "execution_count": 37,
   "id": "777f3ec8",
   "metadata": {},
   "outputs": [
    {
     "data": {
      "image/png": "[encoded data removed]",
      "text/plain": [
       "<Figure size 720x360 with 2 Axes>"
      ]
     },
     "metadata": {
      "needs_background": "light"
     },
     "output_type": "display_data"
    }
   ],
   "source": [
    "import sklearn.metrics as skm\n",
    "cm = skm.confusion_matrix(y_test, y_pred)\n",
    "disp = skm.ConfusionMatrixDisplay(cm)\n",
    "disp.plot()\n",
    "plt.title(\"Macierz konfuzji dla regresji logistycznej\")\n",
    "plt.ylabel(\"Klasa rzeczywista\")\n",
    "plt.xlabel(\"Klasa przewidywana\")\n",
    "plt.show()"
   ]
  },
  {
   "cell_type": "markdown",
   "id": "7ba95126",
   "metadata": {},
   "source": [
    "Na podstawie macierzy konfuzji można wyznaczyć szereg parametrów charakteryzujących klasyfikację, są to m. in.:\n",
    "$$\\text{precyzja} =\\frac{TP}{TP + FP} = 0.68$$\n",
    "\n",
    "$$\\text{czułość} \\, (\\textit{recall})=\\frac{TP}{TP + FN} = 0.61$$\n",
    "\n",
    "$$\\text{specyficzność}=\\frac{TN}{TN + FP}=0.86$$\n",
    "\n",
    "$$\\text{f1-score}=\\frac{2 \\cdot \\text{precyzja} \\cdot \\text{specyficzność}}{ \\text{precyzja} + \\text{specyficzność} } = 0.64$$"
   ]
  },
  {
   "cell_type": "code",
   "execution_count": 38,
   "id": "eb84d3e4",
   "metadata": {},
   "outputs": [
    {
     "name": "stdout",
     "output_type": "stream",
     "text": [
      "Precyzja: 0.68, czułość: 0.61, specyficzność: 0.86, f1-score: 0.64\n"
     ]
    }
   ],
   "source": [
    "print(\"Precyzja: {:.2f}, czułość: {:.2f}, specyficzność: {:.2f}, f1-score: {:.2f}\"\n",
    "      .format(skm.precision_score(y_test, y_pred), skm.recall_score(y_test, y_pred), \n",
    "             cm[0, 0] / (cm[0, 0] + cm[0, 1]), skm.f1_score(y_test, y_pred)))"
   ]
  },
  {
   "cell_type": "markdown",
   "id": "f62852ee",
   "metadata": {},
   "source": [
    "Przeprowadzona klasyfikacja chorych na cukrzycę wykazała się dość dużą specyficznością, co oznacza, ze klasyfikator ze sporą dokładnością określa brak choroby u badanego.\n",
    "\n",
    "Jakość klasyfikacji można pokazać w inny sposób -- wykreślając krzywą ROC. Na podstawie faktycznych etykiet z testowego zbioru danych oraz przewidywanych przez logistyczną regresję prawdopodobieństw wspierających klasę pozytywną powstaje wykres, w którym na osi X mamy\n",
    "\n",
    "$$FPR = 1-\\text{specyficzność},$$ \n",
    "a na osi Y \n",
    "\n",
    "$$TPR = \\text{czułość}$$\n",
    "\n",
    "Krzywa ROC powstaje z punktów o współrzędnych $(FPR, TPR)$ wyliczanych w zależności od przyjętego progu, tj. wartości prawdopodobieństwa rozdzielającej obszary decyzyjne klas 0 i 1."
   ]
  },
  {
   "cell_type": "code",
   "execution_count": 39,
   "id": "963b5dbd",
   "metadata": {},
   "outputs": [
    {
     "name": "stdout",
     "output_type": "stream",
     "text": [
      "[0. 1.]\n"
     ]
    },
    {
     "data": {
      "image/png": "[encoded data removed]",
      "text/plain": [
       "<Figure size 720x360 with 1 Axes>"
      ]
     },
     "metadata": {
      "needs_background": "light"
     },
     "output_type": "display_data"
    }
   ],
   "source": [
    "from sklearn.naive_bayes import GaussianNB\n",
    "y_pos_class_probab_GNB = GaussianNB().fit(X_train, y_train).predict_proba(X_test)[:, 1] # naiwny Bayes\n",
    "\n",
    "y_const_probab = np.ones_like(y_test) # przewiduje pozytywną klasę z prawdopodobieństwem 1\n",
    "\n",
    "fprLR, tprLR, _ = skm.roc_curve(y_test, y_pos_class_probab_LR)\n",
    "fprGNB, tprGNB, _ = skm.roc_curve(y_test, y_pos_class_probab_GNB)\n",
    "fpr_const, tpr_const, _ = skm.roc_curve(y_test, y_const_probab)\n",
    "print(tpr_const)\n",
    "plt.plot(fprLR, tprLR, label=\"Regresja logistyczna\")\n",
    "plt.plot(fprGNB, tprGNB, label=\"Naiwny klasyfikator bayesowski\")\n",
    "plt.plot(fpr_const, tpr_const, label=\"Algorytm stale przypisujący klasę 1\")\n",
    "plt.legend()\n",
    "plt.title(\"Krzywe ROC\")\n",
    "plt.xlabel(\"FPR\")\n",
    "plt.ylabel(\"TPR\")\n",
    "plt.show()"
   ]
  },
  {
   "cell_type": "markdown",
   "id": "4c675d22",
   "metadata": {},
   "source": [
    "Na wykresie przedstawiono krzywą ROC dla algorytmu regresji logistycznej, dla naiwnego klasyfikatorwa bayesowskiego oraz prymitywnego algorytmu stale przypisującego próbki do klasy 1. Punkt $(0, 1)$ oznacza idealną klasyfikację przy zerowym FPR i pełnym TPR, im bliżej tego punktu, tym lepiej. Do dokładniejszego porównania algorytmów można wykorzystać parametr AUC -- pole pod krzywą ROC, im większe, tym lepsza jakość klasyfikacji. "
   ]
  },
  {
   "cell_type": "code",
   "execution_count": 40,
   "id": "94fea1b6",
   "metadata": {},
   "outputs": [
    {
     "name": "stdout",
     "output_type": "stream",
     "text": [
      "Regresja logistyczna AUC: 0.813,\n",
      "Naiwny klasyfikator bayesowski AUC: 0.805\n",
      "Algorytm stale przypisujący klasę 1 AUC: 0.500\n"
     ]
    }
   ],
   "source": [
    "print(\"Regresja logistyczna AUC: {:.3f},\\n\"\n",
    "      \"Naiwny klasyfikator bayesowski AUC: {:.3f}\\n\"\n",
    "      \"Algorytm stale przypisujący klasę 1 AUC: {:.3f}\"\n",
    "      .format(skm.roc_auc_score(y_test, y_pos_class_probab_LR), \n",
    "             skm.roc_auc_score(y_test, y_pos_class_probab_GNB), \n",
    "             skm.roc_auc_score(y_test, y_const_probab)))"
   ]
  },
  {
   "cell_type": "markdown",
   "id": "d3036f09",
   "metadata": {},
   "source": [
    "Regresja logistyczna i naiwny klasyfikator bayesowski wypadły niemal identycznie: AUC $0.813$ kontra $0.805$. Natomiast algorytm stale przypisujacy klasę 1 ma niezmiennie $(FPR, TPR) = (1, 1)$ i tym samym AUC dokładnie $0.5$. "
   ]
  }
 ],
 "metadata": {
  "authors": [
   {
    "name": "Filip Mykieta, 229900"
   }
  ],
  "kernelspec": {
   "display_name": "Python 3 (ipykernel)",
   "language": "python",
   "name": "python3"
  },
  "language_info": {
   "codemirror_mode": {
    "name": "ipython",
    "version": 3
   },
   "file_extension": ".py",
   "mimetype": "text/x-python",
   "name": "python",
   "nbconvert_exporter": "python",
   "pygments_lexer": "ipython3",
   "version": "3.8.10"
  },
  "title": "Statystyczna analiza danych medycznych -- projekt"
 },
 "nbformat": 4,
 "nbformat_minor": 5
}
