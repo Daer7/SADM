{
 "cells": [
  {
   "cell_type": "markdown",
   "id": "2e08d5d7",
   "metadata": {},
   "source": [
    "# Wstęp\n",
    "Narzędziem wykorzystywanym w projekcie jest język Python wraz ze swoją biblioteką `pandas`, przeznaczoną do analizy danych. Niniejszy raport przygotowano w środowisku `jupyter`, które udostępnia przeglądarkowy interfejs z jądrem obliczeniowym Pythona. Można tam w łatwy sposób wykonywać kod i od razu uzyskiwać wyniki czy wykresy, a także przeplatać komórki kodu z komórkami tekstu formatowanymi zgodnie z językiem `markdown`, co nadaje całemu dokumentowi przystępną w odbiorze formę.\n",
    "\n",
    "Na początku zaimportowano potrzebne biblioteki."
   ]
  },
  {
   "cell_type": "code",
   "execution_count": 255,
   "id": "bc85ef65",
   "metadata": {},
   "outputs": [],
   "source": [
    "import pandas as pd\n",
    "import numpy as np\n",
    "import matplotlib.pyplot as plt\n",
    "from scipy.stats import shapiro, ttest_rel, wilcoxon, bartlett, ttest_ind, mannwhitneyu, f_oneway\n",
    "plt.rcParams['figure.figsize'] = [10, 5]"
   ]
  },
  {
   "cell_type": "markdown",
   "id": "55d62812",
   "metadata": {},
   "source": [
    "Do typowej dla biblioteki `pandas` struktury danych `DataFrame` wczytano pierwszy zbiór danych analizowany w projekcie, tj. *crime.csv*. Został on pobrany spośród wielu zbiorów danych udostępnionych przez Uniwersytet Sheffield pod [tym](https://www.sheffield.ac.uk/mash/statistics/datasets) adresem . Następnie sprawdzono, czy gdziekolwiek w zbiorze występują puste wartości wymagające uzupełnienia -- nie stwierdzono takiego przypadku."
   ]
  },
  {
   "cell_type": "code",
   "execution_count": 256,
   "id": "398bb307",
   "metadata": {},
   "outputs": [
    {
     "name": "stdout",
     "output_type": "stream",
     "text": [
      "False False\n"
     ]
    }
   ],
   "source": [
    "df = pd.read_csv('crime.csv')\n",
    "print(df.isnull().values.any(), df.isna().values.any())"
   ]
  },
  {
   "cell_type": "markdown",
   "id": "4e863021",
   "metadata": {},
   "source": [
    "Dane opisują przestępczość w Stanach Zjednoczonych, tj. dla każdego stanu dysponujemy próbką zawierającą wartość współczynnika przestępczości w tym stanie i szereg dodatkowych czynników. Dane zebrano w pewnym punkcie czasu, a także 10 lat później, co uwzględniono w nazwach kolumn struktury `DataFrame` (liczba 10 na końcu oznacza, że dane w tej kolumnie są późniejsze). Obserwacje przechowywane są albo jako liczby całkowite, albo zmiennoprzecinkowe."
   ]
  },
  {
   "cell_type": "code",
   "execution_count": 257,
   "id": "d4096f58",
   "metadata": {},
   "outputs": [
    {
     "name": "stdout",
     "output_type": "stream",
     "text": [
      "CrimeRate              float64\n",
      "Youth                    int64\n",
      "Southern                 int64\n",
      "Education              float64\n",
      "ExpenditureYear0         int64\n",
      "LabourForce              int64\n",
      "Males                    int64\n",
      "MoreMales                int64\n",
      "StateSize                int64\n",
      "YouthUnemployment        int64\n",
      "MatureUnemployment       int64\n",
      "HighYouthUnemploy        int64\n",
      "Wage                     int64\n",
      "BelowWage                int64\n",
      "CrimeRate10            float64\n",
      "Youth10                  int64\n",
      "Education10            float64\n",
      "ExpenditureYear10        int64\n",
      "LabourForce10            int64\n",
      "Males10                  int64\n",
      "MoreMales10              int64\n",
      "StateSize10              int64\n",
      "YouthUnemploy10          int64\n",
      "MatureUnemploy10         int64\n",
      "HighYouthUnemploy10      int64\n",
      "Wage10                   int64\n",
      "BelowWage10              int64\n",
      "dtype: object\n"
     ]
    }
   ],
   "source": [
    "print(df.dtypes)"
   ]
  },
  {
   "cell_type": "markdown",
   "id": "4f44c2d8",
   "metadata": {},
   "source": [
    "W poniższej tabeli przedstawiono opisy zmiennych (kolumn) występujących w zbiorze danych. Dla kategorycznych cech binarych wartości liczbowe $0$, $1$ zastąpiono odpowiednio słowami **nie**, **tak** dla łatwiejszej interpretacji.\n",
    "\n",
    "\n",
    "| Cecha                 | Opis                                                                                                                                      | Rodzaj zmiennej |\n",
    "|-----------------------|-------------------------------------------------------------------------------------------------------------------------------------------|-----------------|\n",
    "| CrimeRate             | współczynnik przestępczosci (liczba wykroczeń rocznie na sto tysięcy mieszkańców)                                                                      | ciągła          |\n",
    "| Youth                 | liczba mężczyzn w wieku 18-24 na 1000 mężczyzn                                                                                         | dyskretna       |\n",
    "| Southern              | stan południowy (1 = tak, 0 = nie)                                                                                                        | binarna         |\n",
    "| Education             | średnia liczba lat edukacji mieszkańca do osiągnięcia 25 roku życia | ciągła\n",
    "| ExpenditureY.      | roczne wydatki na policję w dolarach w przeliczeniu na osobę                                                                                            | ciągła          |\n",
    "| LabourForce           | liczba zatrudnionych mężczyzn w wieku 18-24 na 1000 mężczyzn w wieku 18-24                                                                           | dyskretna       |\n",
    "| Males                 | liczba mężczyzn przypadających na 1000 kobiet                                                                                             | dyskretna       |\n",
    "| MoreMales             | więcej mężczyzn przypada na 1000 kobiet (1 = tak, 0 = nie)                                                                                | binarna         |\n",
    "| StateSize             | liczba ludności stanu (w setkach tysięcy mieszkańców)                                                                                             | dyskretna       |\n",
    "| YouthUn.     | liczba niezatrudnionych młodych mężczyzn w wieku 18-24 na 1000 mężczyzn w wieku 18-24                                                                        | dyskretna       |\n",
    "| MatureUn.    | liczba niezatrudnionych dojrzałych mężczyzn w wieku 35-39 na 1000 mężczyzn w wieku 35-39                                                                        | dyskretna       |\n",
    "| HighYouthUn. | wysokie bezrobocie młodych mężczyzn w stosunku do dojrzałych (1 = tak, 0 = nie, tak, gdy Youth > 3 * Mature) | binarna         |\n",
    "| Wage                  | mediana tygodniowej pensji w dolarach                                                                                                               | ciągła          |\n",
    "| BelowWage             | liczba rodzin żyjących za kwotę poniżej połowy przeciętnej tygodniowej pensji na 1000 rodzin                                                                               | dyskretna       |"
   ]
  },
  {
   "cell_type": "code",
   "execution_count": 258,
   "id": "655ca1de",
   "metadata": {},
   "outputs": [],
   "source": [
    "df = df.replace({'Southern' : {0 : 'nie', 1 : 'tak'}, 'MoreMales' : {0 : 'nie', 1 : 'tak'},\n",
    "                 'HighYouthUnemploy' : {0 : 'nie', 1 : 'tak'}, 'MoreMales10' : {0 : 'nie', 1 : 'tak'},\n",
    "                 'HighYouthUnemploy10' : {0 : 'nie', 1 : 'tak'}})"
   ]
  },
  {
   "cell_type": "markdown",
   "id": "9f5042cd",
   "metadata": {},
   "source": [
    "Dla wygody dane zapisano w osobnych strukturach danych: pierwsza (`df1`) odnosi się do danych pozyskanych wcześniej, a druga (`df2`) -- po 10 latach. Jedynym parametrem niezmiennym na przestrzeni lat jest *Southern*, tj. przynależność stanu do stanów południowych lub nie.\n",
    "\n",
    "Poniżej pokazano początkową część zawartości tabel."
   ]
  },
  {
   "cell_type": "code",
   "execution_count": 259,
   "id": "0d961b56",
   "metadata": {},
   "outputs": [
    {
     "data": {
      "text/html": [
       "<div>\n",
       "<style scoped>\n",
       "    .dataframe tbody tr th:only-of-type {\n",
       "        vertical-align: middle;\n",
       "    }\n",
       "\n",
       "    .dataframe tbody tr th {\n",
       "        vertical-align: top;\n",
       "    }\n",
       "\n",
       "    .dataframe thead th {\n",
       "        text-align: right;\n",
       "    }\n",
       "</style>\n",
       "<table border=\"1\" class=\"dataframe\">\n",
       "  <thead>\n",
       "    <tr style=\"text-align: right;\">\n",
       "      <th></th>\n",
       "      <th>CrimeRate</th>\n",
       "      <th>Youth</th>\n",
       "      <th>Southern</th>\n",
       "      <th>Education</th>\n",
       "      <th>ExpenditureYear0</th>\n",
       "      <th>LabourForce</th>\n",
       "      <th>Males</th>\n",
       "      <th>MoreMales</th>\n",
       "      <th>StateSize</th>\n",
       "      <th>YouthUnemployment</th>\n",
       "      <th>MatureUnemployment</th>\n",
       "      <th>HighYouthUnemploy</th>\n",
       "      <th>Wage</th>\n",
       "      <th>BelowWage</th>\n",
       "    </tr>\n",
       "  </thead>\n",
       "  <tbody>\n",
       "    <tr>\n",
       "      <th>0</th>\n",
       "      <td>45.5</td>\n",
       "      <td>135</td>\n",
       "      <td>nie</td>\n",
       "      <td>12.4</td>\n",
       "      <td>69</td>\n",
       "      <td>540</td>\n",
       "      <td>965</td>\n",
       "      <td>nie</td>\n",
       "      <td>6</td>\n",
       "      <td>80</td>\n",
       "      <td>22</td>\n",
       "      <td>tak</td>\n",
       "      <td>564</td>\n",
       "      <td>139</td>\n",
       "    </tr>\n",
       "    <tr>\n",
       "      <th>1</th>\n",
       "      <td>52.3</td>\n",
       "      <td>140</td>\n",
       "      <td>nie</td>\n",
       "      <td>10.9</td>\n",
       "      <td>55</td>\n",
       "      <td>535</td>\n",
       "      <td>1045</td>\n",
       "      <td>tak</td>\n",
       "      <td>6</td>\n",
       "      <td>135</td>\n",
       "      <td>40</td>\n",
       "      <td>tak</td>\n",
       "      <td>453</td>\n",
       "      <td>200</td>\n",
       "    </tr>\n",
       "    <tr>\n",
       "      <th>2</th>\n",
       "      <td>56.6</td>\n",
       "      <td>157</td>\n",
       "      <td>tak</td>\n",
       "      <td>11.2</td>\n",
       "      <td>47</td>\n",
       "      <td>512</td>\n",
       "      <td>962</td>\n",
       "      <td>nie</td>\n",
       "      <td>22</td>\n",
       "      <td>97</td>\n",
       "      <td>34</td>\n",
       "      <td>nie</td>\n",
       "      <td>288</td>\n",
       "      <td>276</td>\n",
       "    </tr>\n",
       "    <tr>\n",
       "      <th>3</th>\n",
       "      <td>60.3</td>\n",
       "      <td>139</td>\n",
       "      <td>tak</td>\n",
       "      <td>11.9</td>\n",
       "      <td>46</td>\n",
       "      <td>480</td>\n",
       "      <td>968</td>\n",
       "      <td>nie</td>\n",
       "      <td>19</td>\n",
       "      <td>135</td>\n",
       "      <td>53</td>\n",
       "      <td>nie</td>\n",
       "      <td>457</td>\n",
       "      <td>249</td>\n",
       "    </tr>\n",
       "    <tr>\n",
       "      <th>4</th>\n",
       "      <td>64.2</td>\n",
       "      <td>126</td>\n",
       "      <td>nie</td>\n",
       "      <td>12.2</td>\n",
       "      <td>106</td>\n",
       "      <td>599</td>\n",
       "      <td>989</td>\n",
       "      <td>nie</td>\n",
       "      <td>40</td>\n",
       "      <td>78</td>\n",
       "      <td>25</td>\n",
       "      <td>tak</td>\n",
       "      <td>593</td>\n",
       "      <td>171</td>\n",
       "    </tr>\n",
       "  </tbody>\n",
       "</table>\n",
       "</div>"
      ],
      "text/plain": [
       "   CrimeRate  Youth Southern  Education  ExpenditureYear0  LabourForce  Males  \\\n",
       "0       45.5    135      nie       12.4                69          540    965   \n",
       "1       52.3    140      nie       10.9                55          535   1045   \n",
       "2       56.6    157      tak       11.2                47          512    962   \n",
       "3       60.3    139      tak       11.9                46          480    968   \n",
       "4       64.2    126      nie       12.2               106          599    989   \n",
       "\n",
       "  MoreMales  StateSize  YouthUnemployment  MatureUnemployment  \\\n",
       "0       nie          6                 80                  22   \n",
       "1       tak          6                135                  40   \n",
       "2       nie         22                 97                  34   \n",
       "3       nie         19                135                  53   \n",
       "4       nie         40                 78                  25   \n",
       "\n",
       "  HighYouthUnemploy  Wage  BelowWage  \n",
       "0               tak   564        139  \n",
       "1               tak   453        200  \n",
       "2               nie   288        276  \n",
       "3               nie   457        249  \n",
       "4               tak   593        171  "
      ]
     },
     "execution_count": 259,
     "metadata": {},
     "output_type": "execute_result"
    }
   ],
   "source": [
    "df1 = df.loc[:, 'CrimeRate' : 'BelowWage']\n",
    "df1.head()"
   ]
  },
  {
   "cell_type": "code",
   "execution_count": 260,
   "id": "ba63a6a1",
   "metadata": {},
   "outputs": [
    {
     "data": {
      "text/html": [
       "<div>\n",
       "<style scoped>\n",
       "    .dataframe tbody tr th:only-of-type {\n",
       "        vertical-align: middle;\n",
       "    }\n",
       "\n",
       "    .dataframe tbody tr th {\n",
       "        vertical-align: top;\n",
       "    }\n",
       "\n",
       "    .dataframe thead th {\n",
       "        text-align: right;\n",
       "    }\n",
       "</style>\n",
       "<table border=\"1\" class=\"dataframe\">\n",
       "  <thead>\n",
       "    <tr style=\"text-align: right;\">\n",
       "      <th></th>\n",
       "      <th>CrimeRate10</th>\n",
       "      <th>Youth10</th>\n",
       "      <th>Southern</th>\n",
       "      <th>Education10</th>\n",
       "      <th>ExpenditureYear10</th>\n",
       "      <th>LabourForce10</th>\n",
       "      <th>Males10</th>\n",
       "      <th>MoreMales10</th>\n",
       "      <th>StateSize10</th>\n",
       "      <th>YouthUnemploy10</th>\n",
       "      <th>MatureUnemploy10</th>\n",
       "      <th>HighYouthUnemploy10</th>\n",
       "      <th>Wage10</th>\n",
       "      <th>BelowWage10</th>\n",
       "    </tr>\n",
       "  </thead>\n",
       "  <tbody>\n",
       "    <tr>\n",
       "      <th>0</th>\n",
       "      <td>26.5</td>\n",
       "      <td>135</td>\n",
       "      <td>nie</td>\n",
       "      <td>12.5</td>\n",
       "      <td>71</td>\n",
       "      <td>564</td>\n",
       "      <td>974</td>\n",
       "      <td>nie</td>\n",
       "      <td>6</td>\n",
       "      <td>82</td>\n",
       "      <td>20</td>\n",
       "      <td>tak</td>\n",
       "      <td>632</td>\n",
       "      <td>142</td>\n",
       "    </tr>\n",
       "    <tr>\n",
       "      <th>1</th>\n",
       "      <td>35.9</td>\n",
       "      <td>135</td>\n",
       "      <td>nie</td>\n",
       "      <td>10.9</td>\n",
       "      <td>54</td>\n",
       "      <td>540</td>\n",
       "      <td>1039</td>\n",
       "      <td>tak</td>\n",
       "      <td>7</td>\n",
       "      <td>138</td>\n",
       "      <td>39</td>\n",
       "      <td>tak</td>\n",
       "      <td>521</td>\n",
       "      <td>210</td>\n",
       "    </tr>\n",
       "    <tr>\n",
       "      <th>2</th>\n",
       "      <td>37.1</td>\n",
       "      <td>153</td>\n",
       "      <td>tak</td>\n",
       "      <td>11.0</td>\n",
       "      <td>44</td>\n",
       "      <td>529</td>\n",
       "      <td>959</td>\n",
       "      <td>nie</td>\n",
       "      <td>24</td>\n",
       "      <td>98</td>\n",
       "      <td>33</td>\n",
       "      <td>nie</td>\n",
       "      <td>359</td>\n",
       "      <td>256</td>\n",
       "    </tr>\n",
       "    <tr>\n",
       "      <th>3</th>\n",
       "      <td>42.7</td>\n",
       "      <td>139</td>\n",
       "      <td>tak</td>\n",
       "      <td>11.8</td>\n",
       "      <td>41</td>\n",
       "      <td>497</td>\n",
       "      <td>983</td>\n",
       "      <td>nie</td>\n",
       "      <td>20</td>\n",
       "      <td>131</td>\n",
       "      <td>50</td>\n",
       "      <td>nie</td>\n",
       "      <td>510</td>\n",
       "      <td>235</td>\n",
       "    </tr>\n",
       "    <tr>\n",
       "      <th>4</th>\n",
       "      <td>46.7</td>\n",
       "      <td>125</td>\n",
       "      <td>nie</td>\n",
       "      <td>12.2</td>\n",
       "      <td>97</td>\n",
       "      <td>602</td>\n",
       "      <td>989</td>\n",
       "      <td>nie</td>\n",
       "      <td>42</td>\n",
       "      <td>79</td>\n",
       "      <td>24</td>\n",
       "      <td>tak</td>\n",
       "      <td>660</td>\n",
       "      <td>162</td>\n",
       "    </tr>\n",
       "  </tbody>\n",
       "</table>\n",
       "</div>"
      ],
      "text/plain": [
       "   CrimeRate10  Youth10 Southern  Education10  ExpenditureYear10  \\\n",
       "0         26.5      135      nie         12.5                 71   \n",
       "1         35.9      135      nie         10.9                 54   \n",
       "2         37.1      153      tak         11.0                 44   \n",
       "3         42.7      139      tak         11.8                 41   \n",
       "4         46.7      125      nie         12.2                 97   \n",
       "\n",
       "   LabourForce10  Males10 MoreMales10  StateSize10  YouthUnemploy10  \\\n",
       "0            564      974         nie            6               82   \n",
       "1            540     1039         tak            7              138   \n",
       "2            529      959         nie           24               98   \n",
       "3            497      983         nie           20              131   \n",
       "4            602      989         nie           42               79   \n",
       "\n",
       "   MatureUnemploy10 HighYouthUnemploy10  Wage10  BelowWage10  \n",
       "0                20                 tak     632          142  \n",
       "1                39                 tak     521          210  \n",
       "2                33                 nie     359          256  \n",
       "3                50                 nie     510          235  \n",
       "4                24                 tak     660          162  "
      ]
     },
     "execution_count": 260,
     "metadata": {},
     "output_type": "execute_result"
    }
   ],
   "source": [
    "df2 = df.loc[:, 'CrimeRate10' : ]\n",
    "southern = df['Southern']\n",
    "df2.insert(2, 'Southern', southern)\n",
    "df2.head()"
   ]
  },
  {
   "cell_type": "markdown",
   "id": "242cf5ae",
   "metadata": {},
   "source": [
    "# Statystyka opisowa"
   ]
  },
  {
   "cell_type": "markdown",
   "id": "ca68827f",
   "metadata": {},
   "source": [
    "Biblioteka `pandas` umożliwia wykonanie dla struktury `DataFrame` statystyki opisowej poprzez pojedyncze wywołanie metody `describe()`. Domyślnie podaje ona dla każdej z cech:\n",
    "\n",
    "- liczność obserwacji,\n",
    "- wartość średnią,\n",
    "- odchylenie standardowe,\n",
    "- wartość minmalną,\n",
    "- wartość pierwszego kwartylu,\n",
    "- wartość drugiego kwartylu (medianę),\n",
    "- wartość trzeciego kwartylu,\n",
    "- wartość maksymalną.\n",
    "\n",
    "Domyślna implementacja została uzupełniona o wartości rozstępu, dominanty (mody), wariancji, współczynnika zmienności, skośności oraz kurtozy."
   ]
  },
  {
   "cell_type": "code",
   "execution_count": 261,
   "id": "498f709f",
   "metadata": {},
   "outputs": [
    {
     "data": {
      "text/html": [
       "<div>\n",
       "<style scoped>\n",
       "    .dataframe tbody tr th:only-of-type {\n",
       "        vertical-align: middle;\n",
       "    }\n",
       "\n",
       "    .dataframe tbody tr th {\n",
       "        vertical-align: top;\n",
       "    }\n",
       "\n",
       "    .dataframe thead th {\n",
       "        text-align: right;\n",
       "    }\n",
       "</style>\n",
       "<table border=\"1\" class=\"dataframe\">\n",
       "  <thead>\n",
       "    <tr style=\"text-align: right;\">\n",
       "      <th></th>\n",
       "      <th>CrimeRate</th>\n",
       "      <th>Youth</th>\n",
       "      <th>Education</th>\n",
       "      <th>ExpenditureYear0</th>\n",
       "      <th>LabourForce</th>\n",
       "      <th>Males</th>\n",
       "      <th>StateSize</th>\n",
       "      <th>YouthUnemployment</th>\n",
       "      <th>MatureUnemployment</th>\n",
       "      <th>Wage</th>\n",
       "      <th>BelowWage</th>\n",
       "    </tr>\n",
       "  </thead>\n",
       "  <tbody>\n",
       "    <tr>\n",
       "      <th>liczność</th>\n",
       "      <td>47.000000</td>\n",
       "      <td>47.000000</td>\n",
       "      <td>47.000000</td>\n",
       "      <td>47.000000</td>\n",
       "      <td>47.000000</td>\n",
       "      <td>47.000000</td>\n",
       "      <td>47.000000</td>\n",
       "      <td>47.000000</td>\n",
       "      <td>47.000000</td>\n",
       "      <td>47.000000</td>\n",
       "      <td>47.000000</td>\n",
       "    </tr>\n",
       "    <tr>\n",
       "      <th>średnia</th>\n",
       "      <td>102.808511</td>\n",
       "      <td>138.574468</td>\n",
       "      <td>12.391489</td>\n",
       "      <td>85.000000</td>\n",
       "      <td>561.191489</td>\n",
       "      <td>983.021277</td>\n",
       "      <td>36.617021</td>\n",
       "      <td>95.468085</td>\n",
       "      <td>33.978723</td>\n",
       "      <td>525.382979</td>\n",
       "      <td>194.000000</td>\n",
       "    </tr>\n",
       "    <tr>\n",
       "      <th>odch. st.</th>\n",
       "      <td>28.893266</td>\n",
       "      <td>12.567634</td>\n",
       "      <td>1.120332</td>\n",
       "      <td>29.718974</td>\n",
       "      <td>40.411814</td>\n",
       "      <td>29.467365</td>\n",
       "      <td>38.071188</td>\n",
       "      <td>18.028783</td>\n",
       "      <td>8.445450</td>\n",
       "      <td>96.490944</td>\n",
       "      <td>39.896061</td>\n",
       "    </tr>\n",
       "    <tr>\n",
       "      <th>w. min.</th>\n",
       "      <td>45.500000</td>\n",
       "      <td>119.000000</td>\n",
       "      <td>10.000000</td>\n",
       "      <td>45.000000</td>\n",
       "      <td>480.000000</td>\n",
       "      <td>934.000000</td>\n",
       "      <td>3.000000</td>\n",
       "      <td>70.000000</td>\n",
       "      <td>20.000000</td>\n",
       "      <td>288.000000</td>\n",
       "      <td>126.000000</td>\n",
       "    </tr>\n",
       "    <tr>\n",
       "      <th>1 kwartyl</th>\n",
       "      <td>82.700000</td>\n",
       "      <td>130.000000</td>\n",
       "      <td>11.550000</td>\n",
       "      <td>62.500000</td>\n",
       "      <td>530.500000</td>\n",
       "      <td>964.500000</td>\n",
       "      <td>10.000000</td>\n",
       "      <td>80.500000</td>\n",
       "      <td>27.500000</td>\n",
       "      <td>459.500000</td>\n",
       "      <td>165.500000</td>\n",
       "    </tr>\n",
       "    <tr>\n",
       "      <th>mediana</th>\n",
       "      <td>103.000000</td>\n",
       "      <td>136.000000</td>\n",
       "      <td>12.400000</td>\n",
       "      <td>78.000000</td>\n",
       "      <td>560.000000</td>\n",
       "      <td>977.000000</td>\n",
       "      <td>25.000000</td>\n",
       "      <td>92.000000</td>\n",
       "      <td>34.000000</td>\n",
       "      <td>537.000000</td>\n",
       "      <td>176.000000</td>\n",
       "    </tr>\n",
       "    <tr>\n",
       "      <th>3 kwartyl</th>\n",
       "      <td>120.650000</td>\n",
       "      <td>146.000000</td>\n",
       "      <td>13.200000</td>\n",
       "      <td>104.500000</td>\n",
       "      <td>593.000000</td>\n",
       "      <td>992.000000</td>\n",
       "      <td>41.500000</td>\n",
       "      <td>104.000000</td>\n",
       "      <td>38.500000</td>\n",
       "      <td>591.500000</td>\n",
       "      <td>227.500000</td>\n",
       "    </tr>\n",
       "    <tr>\n",
       "      <th>w. maks.</th>\n",
       "      <td>161.800000</td>\n",
       "      <td>177.000000</td>\n",
       "      <td>15.100000</td>\n",
       "      <td>166.000000</td>\n",
       "      <td>641.000000</td>\n",
       "      <td>1071.000000</td>\n",
       "      <td>168.000000</td>\n",
       "      <td>142.000000</td>\n",
       "      <td>58.000000</td>\n",
       "      <td>689.000000</td>\n",
       "      <td>276.000000</td>\n",
       "    </tr>\n",
       "    <tr>\n",
       "      <th>rozstęp</th>\n",
       "      <td>116.300000</td>\n",
       "      <td>58.000000</td>\n",
       "      <td>5.100000</td>\n",
       "      <td>121.000000</td>\n",
       "      <td>161.000000</td>\n",
       "      <td>137.000000</td>\n",
       "      <td>165.000000</td>\n",
       "      <td>72.000000</td>\n",
       "      <td>38.000000</td>\n",
       "      <td>401.000000</td>\n",
       "      <td>150.000000</td>\n",
       "    </tr>\n",
       "    <tr>\n",
       "      <th>moda</th>\n",
       "      <td>45.500000</td>\n",
       "      <td>126.000000</td>\n",
       "      <td>12.900000</td>\n",
       "      <td>58.000000</td>\n",
       "      <td>521.000000</td>\n",
       "      <td>964.000000</td>\n",
       "      <td>7.000000</td>\n",
       "      <td>102.000000</td>\n",
       "      <td>35.000000</td>\n",
       "      <td>557.000000</td>\n",
       "      <td>166.000000</td>\n",
       "    </tr>\n",
       "    <tr>\n",
       "      <th>wariancja</th>\n",
       "      <td>834.820796</td>\n",
       "      <td>157.945421</td>\n",
       "      <td>1.255143</td>\n",
       "      <td>883.217391</td>\n",
       "      <td>1633.114709</td>\n",
       "      <td>868.325624</td>\n",
       "      <td>1449.415356</td>\n",
       "      <td>325.037003</td>\n",
       "      <td>71.325624</td>\n",
       "      <td>9310.502313</td>\n",
       "      <td>1591.695652</td>\n",
       "    </tr>\n",
       "    <tr>\n",
       "      <th>wsp. zm.</th>\n",
       "      <td>0.281040</td>\n",
       "      <td>0.090692</td>\n",
       "      <td>0.090411</td>\n",
       "      <td>0.349635</td>\n",
       "      <td>0.072011</td>\n",
       "      <td>0.029976</td>\n",
       "      <td>1.039713</td>\n",
       "      <td>0.188846</td>\n",
       "      <td>0.248551</td>\n",
       "      <td>0.183658</td>\n",
       "      <td>0.205650</td>\n",
       "    </tr>\n",
       "    <tr>\n",
       "      <th>skośność</th>\n",
       "      <td>0.141890</td>\n",
       "      <td>0.877108</td>\n",
       "      <td>0.013953</td>\n",
       "      <td>0.949896</td>\n",
       "      <td>0.288851</td>\n",
       "      <td>1.059918</td>\n",
       "      <td>1.978741</td>\n",
       "      <td>0.826909</td>\n",
       "      <td>0.578677</td>\n",
       "      <td>-0.407600</td>\n",
       "      <td>0.391711</td>\n",
       "    </tr>\n",
       "    <tr>\n",
       "      <th>kurtoza</th>\n",
       "      <td>-0.537537</td>\n",
       "      <td>0.726196</td>\n",
       "      <td>-0.385285</td>\n",
       "      <td>0.475384</td>\n",
       "      <td>-0.748200</td>\n",
       "      <td>1.045476</td>\n",
       "      <td>3.870814</td>\n",
       "      <td>0.133682</td>\n",
       "      <td>0.487839</td>\n",
       "      <td>-0.427399</td>\n",
       "      <td>-1.039347</td>\n",
       "    </tr>\n",
       "  </tbody>\n",
       "</table>\n",
       "</div>"
      ],
      "text/plain": [
       "            CrimeRate       Youth  Education  ExpenditureYear0  LabourForce  \\\n",
       "liczność    47.000000   47.000000  47.000000         47.000000    47.000000   \n",
       "średnia    102.808511  138.574468  12.391489         85.000000   561.191489   \n",
       "odch. st.   28.893266   12.567634   1.120332         29.718974    40.411814   \n",
       "w. min.     45.500000  119.000000  10.000000         45.000000   480.000000   \n",
       "1 kwartyl   82.700000  130.000000  11.550000         62.500000   530.500000   \n",
       "mediana    103.000000  136.000000  12.400000         78.000000   560.000000   \n",
       "3 kwartyl  120.650000  146.000000  13.200000        104.500000   593.000000   \n",
       "w. maks.   161.800000  177.000000  15.100000        166.000000   641.000000   \n",
       "rozstęp    116.300000   58.000000   5.100000        121.000000   161.000000   \n",
       "moda        45.500000  126.000000  12.900000         58.000000   521.000000   \n",
       "wariancja  834.820796  157.945421   1.255143        883.217391  1633.114709   \n",
       "wsp. zm.     0.281040    0.090692   0.090411          0.349635     0.072011   \n",
       "skośność     0.141890    0.877108   0.013953          0.949896     0.288851   \n",
       "kurtoza     -0.537537    0.726196  -0.385285          0.475384    -0.748200   \n",
       "\n",
       "                 Males    StateSize  YouthUnemployment  MatureUnemployment  \\\n",
       "liczność     47.000000    47.000000          47.000000           47.000000   \n",
       "średnia     983.021277    36.617021          95.468085           33.978723   \n",
       "odch. st.    29.467365    38.071188          18.028783            8.445450   \n",
       "w. min.     934.000000     3.000000          70.000000           20.000000   \n",
       "1 kwartyl   964.500000    10.000000          80.500000           27.500000   \n",
       "mediana     977.000000    25.000000          92.000000           34.000000   \n",
       "3 kwartyl   992.000000    41.500000         104.000000           38.500000   \n",
       "w. maks.   1071.000000   168.000000         142.000000           58.000000   \n",
       "rozstęp     137.000000   165.000000          72.000000           38.000000   \n",
       "moda        964.000000     7.000000         102.000000           35.000000   \n",
       "wariancja   868.325624  1449.415356         325.037003           71.325624   \n",
       "wsp. zm.      0.029976     1.039713           0.188846            0.248551   \n",
       "skośność      1.059918     1.978741           0.826909            0.578677   \n",
       "kurtoza       1.045476     3.870814           0.133682            0.487839   \n",
       "\n",
       "                  Wage    BelowWage  \n",
       "liczność     47.000000    47.000000  \n",
       "średnia     525.382979   194.000000  \n",
       "odch. st.    96.490944    39.896061  \n",
       "w. min.     288.000000   126.000000  \n",
       "1 kwartyl   459.500000   165.500000  \n",
       "mediana     537.000000   176.000000  \n",
       "3 kwartyl   591.500000   227.500000  \n",
       "w. maks.    689.000000   276.000000  \n",
       "rozstęp     401.000000   150.000000  \n",
       "moda        557.000000   166.000000  \n",
       "wariancja  9310.502313  1591.695652  \n",
       "wsp. zm.      0.183658     0.205650  \n",
       "skośność     -0.407600     0.391711  \n",
       "kurtoza      -0.427399    -1.039347  "
      ]
     },
     "execution_count": 261,
     "metadata": {},
     "output_type": "execute_result"
    }
   ],
   "source": [
    "stats = df1.describe()\n",
    "stats.loc['rozstęp'] = stats.loc['max'] - stats.loc['min']\n",
    "stats.loc['moda'] = df1.mode().iloc[0]\n",
    "stats.loc['wariancja'] = df1.var(numeric_only=True).tolist()\n",
    "stats.loc['wsp. zm.'] = stats.loc['std'] / stats.loc['mean']\n",
    "stats.loc['skośność'] = df1.skew(numeric_only=True).tolist()\n",
    "stats.loc['kurtoza'] = df1.kurtosis(numeric_only=True).tolist()\n",
    "stats = stats.rename(index={'count' : 'liczność', 'mean' : 'średnia', 'std' : 'odch. st.', 'min' : 'w. min.', \n",
    "                    '25%' : '1 kwartyl', '50%' : 'mediana', '75%' : '3 kwartyl', 'max' : 'w. maks.'})\n",
    "stats"
   ]
  },
  {
   "cell_type": "markdown",
   "id": "e0d9382c",
   "metadata": {},
   "source": [
    "#### Przykładowe odczytane informacje\n",
    "1. średnio wśród $1000$ mężczyzn jest ok. $139$ mężczyzn w wieku 18-24,\n",
    "2. mediana wydatków *per capita* na policję to $78$ dolarów rocznie,\n",
    "3. maksymalna liczba pracujących mężczyzn w wieku 18-24 na $1000$ mężczyzn w wieku 18-24 w pojedynczym stanie to $641$,\n",
    "4. rozstęp mediany pensji wynosi $401$ dolarów,\n",
    "5. minimalna wartość stopy bezrobocia wśród mężczyzn w wieku 18-24 to $\\frac{70}{1000}=7\\%$, a w wieku 35-39 jest to $\\frac{20}{1000}=2\\%$,\n",
    "6. współczynnik zmienności w liczbie ludności stanów jest zbliżony do $1$, co oznacza, że odchylenie standardowe i średnia są dla tej cechy niemal jednakowe."
   ]
  },
  {
   "cell_type": "markdown",
   "id": "2c4ba465",
   "metadata": {},
   "source": [
    "Liczba ludności stanu (*StateSize*) charakteryzuje się dodatnią skośnością równą $1.98$. Świadczy to o prawostronnej asymetrii rozkładu wartości cechy, co można zobaczyć na poniższym histogramie. Wartość średnia tej cechy jest większa niż jej mediana.\n",
    "\n",
    "Podobnie dodatnia kurtoza równa $3.87$ informuje o smukłym (*leptokurtycznym*) rozkładzie, tj. większym skupieniu obserwacji wokół średniej ($36.6$). Potwierdza to rozkład empiryczny prezentowany na histogramie, gdzie dwa prostokąty są wyraźnie wyższe od czterech pozostałych."
   ]
  },
  {
   "cell_type": "code",
   "execution_count": 290,
   "id": "ec94ef04",
   "metadata": {},
   "outputs": [
    {
     "data": {
      "image/png": "[encoded data removed]",
      "text/plain": [
       "<Figure size 720x360 with 1 Axes>"
      ]
     },
     "metadata": {
      "needs_background": "light"
     },
     "output_type": "display_data"
    }
   ],
   "source": [
    "hist = df1.hist(column='StateSize', bins=6)\n",
    "plt.title(\"Histogram cechy $\\it{StateSize}$\")\n",
    "plt.xlabel(\"Liczba ludności stanu (w setkach tysięcy mieszkańców)\")\n",
    "plt.show()"
   ]
  },
  {
   "cell_type": "markdown",
   "id": "18d26d2c",
   "metadata": {},
   "source": [
    "## Wykres pudełkowy\n",
    "\n",
    "Wygodnym narzędziem graficznej interpretacji danych statystycznych jest wykres pudełkowy, na którym dla wybranej cechy oznaczone są wartości pierwszego kwartylu ($Q1$), mediany oraz trzeciego kwartylu ($Q3$) (tworzące *pudełko*), a *wąsy* mają maksymalną długość półtora rozstępu międzykwartylowego: $IQR=1.5\\cdot(Q3-Q1)$. Na wykresach tego typu można porównać parametry statystyczne cechy pomiędzy różnymi grupami obserwacji, np. w stanach południowych i niepołudniowych."
   ]
  },
  {
   "cell_type": "markdown",
   "id": "64d0669e",
   "metadata": {},
   "source": [
    "#### Porównanie poziomu bezrobocia wśród młodych i  współczynnika przestępczości w zależności od położenia stanu na południu lub nie"
   ]
  },
  {
   "cell_type": "code",
   "execution_count": 263,
   "id": "b606b6df",
   "metadata": {},
   "outputs": [
    {
     "data": {
      "image/png": "[encoded data removed]",
      "text/plain": [
       "<Figure size 720x360 with 2 Axes>"
      ]
     },
     "metadata": {
      "needs_background": "light"
     },
     "output_type": "display_data"
    }
   ],
   "source": [
    "boxpl1 = df1.boxplot(column=['YouthUnemployment', 'CrimeRate'], by=['Southern'])"
   ]
  },
  {
   "cell_type": "markdown",
   "id": "d59263f1",
   "metadata": {},
   "source": [
    "Parametry bezrobocia wśród młodych są do siebie zbliżone w obu rodzajach stanów. Natomiast współczynnik przestępczości ma ponaddwukrotnie mniejszy rozstęp międzykwartylowy w stanach południowych, co świadczy o większej koncentracji obserwacji."
   ]
  },
  {
   "cell_type": "markdown",
   "id": "f5ae1e8f",
   "metadata": {},
   "source": [
    "#### Porównanie wartości współczynnika przestępczości w zależności od przewagi liczebnej mężczyzn w stanie"
   ]
  },
  {
   "cell_type": "code",
   "execution_count": 264,
   "id": "95ef3e95",
   "metadata": {},
   "outputs": [
    {
     "data": {
      "image/png": "[encoded data removed]",
      "text/plain": [
       "<Figure size 720x360 with 1 Axes>"
      ]
     },
     "metadata": {
      "needs_background": "light"
     },
     "output_type": "display_data"
    }
   ],
   "source": [
    "boxpl12 = df1.boxplot(column=['CrimeRate'], by=['MoreMales'])"
   ]
  },
  {
   "cell_type": "markdown",
   "id": "8ab5f643",
   "metadata": {},
   "source": [
    "Różnice we współczynniku przestępczości nie są znaczne, wartości maksymalne i minimalne są bardzo zbliżone, natomiast w stanach, w których mieszka więcej mężczyzn niż kobiet, mamy większą medianę i trzeci kwartyl współczynnika."
   ]
  },
  {
   "cell_type": "markdown",
   "id": "32ac9785",
   "metadata": {},
   "source": [
    "#### Porównanie liczby ludności  w stanach z wysokim i niskim wskaźnikiem bezrobocia wśród młodych mężczyzn w stosunku do dojrzałych mężczyzn"
   ]
  },
  {
   "cell_type": "code",
   "execution_count": 265,
   "id": "b4e2de92",
   "metadata": {},
   "outputs": [
    {
     "data": {
      "image/png": "[encoded data removed]",
      "text/plain": [
       "<Figure size 720x360 with 1 Axes>"
      ]
     },
     "metadata": {
      "needs_background": "light"
     },
     "output_type": "display_data"
    }
   ],
   "source": [
    "boxpl3 = df1.boxplot(column=['StateSize'], by=['HighYouthUnemploy'])"
   ]
  },
  {
   "cell_type": "markdown",
   "id": "87995dda",
   "metadata": {},
   "source": [
    "Stany z niskim wskaźnikiem bezrobocia młodzi/dojrzali mają zróżnicowaną liczbę ludności -- w $75\\%$ poniżej 5 milionów, natomiast zdarzają się wartości odstające sięgające powyżej 15 milionów. Stany z wysokim wskaźnikiem bezrobocia młodzi/dojrzali są stosunkowo małe -- w $75\\%$ poniżej $2.5$ miliona mieszkańców."
   ]
  },
  {
   "cell_type": "markdown",
   "id": "77d46f9b",
   "metadata": {},
   "source": [
    "# Testy parametryczne"
   ]
  },
  {
   "cell_type": "markdown",
   "id": "2c17794b",
   "metadata": {},
   "source": [
    "## Test t-Studenta dla danych zależnych"
   ]
  },
  {
   "cell_type": "markdown",
   "id": "6321a5ad",
   "metadata": {},
   "source": [
    "Porównana zostanie wartość współczynnika przestępczości w roku 0 (kiedy pierwszy raz przeprowadzono badania) i po 10 latach w różnych stanach USA. Są to dane zależne, ponieważ opisują ten sam parametr dla tej samej grupy stanów, ale w innym czasie. Liczność każdej z grup próbek wynosi $47$, więc przekracza wymaganą dla testu wartość ok. 20-25 obserwacji."
   ]
  },
  {
   "cell_type": "code",
   "execution_count": 266,
   "id": "e52d5849",
   "metadata": {},
   "outputs": [],
   "source": [
    "x0 = df1['CrimeRate']\n",
    "x1 = df2['CrimeRate10']"
   ]
  },
  {
   "cell_type": "markdown",
   "id": "cbf20b9e",
   "metadata": {},
   "source": [
    "Aby móc zastosować parowy test t-Studenta dla danych zależnych, należy zweryfikować założenie o normalności rozkładu różnic w grupach. Wykorzystany zostanie do tego test Shapiro-Wilka z hipotezą zerową, że dane pochodzą z rozkładu normalnego. Założony poziom istotności $\\alpha = 0.05$."
   ]
  },
  {
   "cell_type": "code",
   "execution_count": 267,
   "id": "80e83e25",
   "metadata": {},
   "outputs": [
    {
     "name": "stdout",
     "output_type": "stream",
     "text": [
      "False\n"
     ]
    }
   ],
   "source": [
    "alpha = 0.05\n",
    "diff = x0 - x1\n",
    "statistic, pval = shapiro(diff)\n",
    "print(pval <= alpha)"
   ]
  },
  {
   "cell_type": "markdown",
   "id": "82ddb0b8",
   "metadata": {},
   "source": [
    "Ponieważ p wartość testu Shapiro-Wilka jest większa niż założony poziom istotności testu, nie ma podstaw do odrzucenia hipotezy o normalnym rozkładzie różnic pomiędzy testowanymi grupami. Można zatem wykonać test t-Studenta z poziomem istotności $\\alpha=0.05$.\n",
    "\n",
    "**Hipoteza zerowa**: brak statystycznie istotnych różnic między średnimi wartościami współczynnika przestępczości w roku 0 i po 10 latach."
   ]
  },
  {
   "cell_type": "code",
   "execution_count": 268,
   "id": "35bc97f0",
   "metadata": {},
   "outputs": [
    {
     "name": "stdout",
     "output_type": "stream",
     "text": [
      "False\n"
     ]
    }
   ],
   "source": [
    "alpha = 0.05\n",
    "statistic, pval = ttest_rel(x0, x1)\n",
    "print(pval <= alpha)"
   ]
  },
  {
   "cell_type": "markdown",
   "id": "2ea23051",
   "metadata": {},
   "source": [
    "Brak podstaw do odrzucenia hipotezy zerowej, zatem nie można stwierdzić, że w statystycznym sensie średni współczynnik przestępczości na przestrzeni 10 lat zmienił się."
   ]
  },
  {
   "cell_type": "markdown",
   "id": "819c5b6b",
   "metadata": {},
   "source": [
    "## Test t-Studenta dla danych niezależnych"
   ]
  },
  {
   "cell_type": "markdown",
   "id": "f097d6d2",
   "metadata": {},
   "source": [
    "Testy danych niezależnych porównują ten sam parametr dla różnych grup. Przeanalizowana zostanie średnia liczba lat edukacji mieszkańca przed osiągnięciem 25 roku życia w stanach południowych i niepołudniowych. Na początek zbadane zostanie (testem Shapiro-Wilka z $\\alpha=0.05$), czy dane w obu grupach pochodzą z rozkładu normalnego."
   ]
  },
  {
   "cell_type": "code",
   "execution_count": 269,
   "id": "d407b0fd",
   "metadata": {},
   "outputs": [
    {
     "name": "stdout",
     "output_type": "stream",
     "text": [
      "False False\n"
     ]
    }
   ],
   "source": [
    "x0 = df1['Education'][df1['Southern']=='tak']\n",
    "x1 = df1['Education'][df1['Southern']=='nie']\n",
    "alpha = 0.05\n",
    "statistic1, pval1 = shapiro(x0)\n",
    "statistic2, pval2 = shapiro(x1)\n",
    "print(pval1 <= alpha, pval2 <= alpha)"
   ]
  },
  {
   "cell_type": "markdown",
   "id": "6af1b8f2",
   "metadata": {},
   "source": [
    "Brak podstaw do odrzucenia H0 mówiącej o normalności rozkładów x0 i x1, zatem spełnione jest pierwsze założenie testu t-Studenta dla danych niezależnych. W drugim kroku zostanie zbadana równość wariancji w obu grupach. Wykorzystany zostanie tutaj test Bartletta o poziomie istotności $\\alpha=0.05$ z H0, że obie próbki pochodzą z populacji o równych wariancjach."
   ]
  },
  {
   "cell_type": "code",
   "execution_count": 270,
   "id": "1f26cc35",
   "metadata": {},
   "outputs": [
    {
     "name": "stdout",
     "output_type": "stream",
     "text": [
      "False\n"
     ]
    }
   ],
   "source": [
    "statistic, pval = bartlett(x0, x1)\n",
    "print(pval <= alpha)"
   ]
  },
  {
   "cell_type": "markdown",
   "id": "5eddd00e",
   "metadata": {},
   "source": [
    "Brak podstaw do odrzucenia hipotezy zerowej -- spełnione drugie założenie t-testu dla danych niezależnych. Można zatem wykonać test t-Studenta z poziomem istotności $\\alpha=0.05$.\n",
    "\n",
    "**Hipoteza zerowa**: brak statystycznie istotnych różnic między średnią liczbą lat edukacji do 25 roku życia w stanach południowych i niepołudniowych."
   ]
  },
  {
   "cell_type": "code",
   "execution_count": 271,
   "id": "ec5106dc",
   "metadata": {},
   "outputs": [
    {
     "name": "stdout",
     "output_type": "stream",
     "text": [
      "True\n"
     ]
    }
   ],
   "source": [
    "statistic, pval = ttest_ind(x0, x1)\n",
    "print(pval <= alpha)"
   ]
  },
  {
   "cell_type": "markdown",
   "id": "9442e872",
   "metadata": {},
   "source": [
    "Wobec p wartości mniejszej od zadanego progu istotności należy przyjąć hipotezę alternatywną: istnieje statystycznie istotna różnica w średniej liczbie lat edukacji pomiędzy stanami południowymi a pozostałymi."
   ]
  },
  {
   "cell_type": "code",
   "execution_count": 272,
   "id": "2ed27dbf",
   "metadata": {},
   "outputs": [
    {
     "name": "stdout",
     "output_type": "stream",
     "text": [
      "W stanach południowych młodzież średnio uczy się 11.6 lat, a w pozostałych stanach 12.8 i jest to statystycznie istotna różnica.\n"
     ]
    }
   ],
   "source": [
    "print(\"W stanach południowych młodzież średnio uczy się {mean0:.1f} lat, a w pozostałych stanach {mean1:.1f} i jest to statystycznie istotna różnica.\".format(mean0 = x0.mean(), mean1 = x1.mean()))"
   ]
  },
  {
   "cell_type": "markdown",
   "id": "b0664dfb",
   "metadata": {},
   "source": [
    "## ANOVA"
   ]
  },
  {
   "cell_type": "markdown",
   "id": "849ca87e",
   "metadata": {},
   "source": [
    "ANOVA jest testem parametrycznym, który (wykorzystując analizę wariancji) pozwala porównać średnie w wielu niezależnych grupach obserwacji. Reprezentowane w danych stany USA uszeregowano względem liczby ludności i podzielono na trzy części: stany małe (15 stanów), średnie (15 stanów) i duże (17 stanów). Na tej podstawie utworzono trzy niezależne od siebie grupy obserwacji: liczba pracujących młodych mężczyzn w wieku 18-24 (na 1000 młodych mężczyzn) w stanach małych, w stanach średnich, w stanach dużych.\n",
    "\n",
    "Kolejno zbadano założenia testu parametrycznego ANOVA:\n",
    "\n",
    "1. normalność rozkładu w każdej z grup,\n",
    "2. równość wariancji pomiędzy grupami.\n",
    "\n",
    "Do zbadania pierwszej hipotezy zerowej posłużył test Shapiro-Wilka z poziomem istotności $\\alpha=0.05$, natomiast do określenia prawdziwości hipotezy zerowej mówiącej o równości wariancji wykorzystano test Bartletta, również z $\\alpha=0.05$. Wyniki nie dają podstaw do odrzucenia żadnej z hipotez, ponieważ otrzymane p wartości są zbyt duże. Płynącym z tego wnioskiem jest, że można wykonać test ANOVA, jako że jego założenia są spełnione."
   ]
  },
  {
   "cell_type": "code",
   "execution_count": 273,
   "id": "8c7ed520",
   "metadata": {},
   "outputs": [
    {
     "name": "stdout",
     "output_type": "stream",
     "text": [
      "False False False\n",
      "False\n"
     ]
    }
   ],
   "source": [
    "orderedStateSizes = df1['StateSize'].sort_values()\n",
    "smallStateInd = orderedStateSizes[:15].index\n",
    "mediumStateInd = orderedStateSizes[15:30].index\n",
    "largeStateInd = orderedStateSizes[30:47].index\n",
    "x0 = df1['LabourForce'][smallStateInd]\n",
    "x1 = df1['LabourForce'][mediumStateInd]\n",
    "x2 = df1['LabourForce'][largeStateInd]\n",
    "alpha = 0.05\n",
    "statistic1, pval1 = shapiro(x0)\n",
    "statistic2, pval2 = shapiro(x1)\n",
    "statistic3, pval3 = shapiro(x2)\n",
    "print(pval1 <= alpha, pval2 <= alpha, pval3 <= alpha)\n",
    "statistic4, pval4 = bartlett(x0, x1, x2)\n",
    "print(pval4 <= alpha)"
   ]
  },
  {
   "cell_type": "markdown",
   "id": "9e06593f",
   "metadata": {},
   "source": [
    "**Hipoteza zerowa**: średnio tyle samo młodych mężczyzn pracuje w stanach małych, w stanach średnich, a także w stanach dużych."
   ]
  },
  {
   "cell_type": "code",
   "execution_count": 274,
   "id": "8cf456ba",
   "metadata": {},
   "outputs": [
    {
     "name": "stdout",
     "output_type": "stream",
     "text": [
      "False\n",
      "W stanach małych pracuje średnio 576 młodych mężczyzn na 1000 młodych mężczyzn, w stanach średnich - 551, a w stanach dużych - 557. Brak statystycznie istotnej różnicy między tymi wartościami.\n"
     ]
    }
   ],
   "source": [
    "alpha = 0.05\n",
    "statistic, pval = f_oneway(x0, x1, x2)\n",
    "print(pval <= alpha)\n",
    "print(\"W stanach małych pracuje średnio {mean0:.0f} młodych mężczyzn na 1000 młodych mężczyzn, w stanach średnich - {mean1:.0f}, a w stanach dużych - {mean2:.0f}. Brak statystycznie istotnej różnicy między tymi wartościami.\".format(mean0 = x0.mean(), mean1 = x1.mean(), mean2 = x2.mean()))"
   ]
  },
  {
   "cell_type": "markdown",
   "id": "37a31ec0",
   "metadata": {},
   "source": [
    "Przy przyjętym poziomie istotnośći $\\alpha=0.05$ brak podstaw do odrzucenia hipotezy zerowej o równości średnich w trzech grupach."
   ]
  },
  {
   "cell_type": "markdown",
   "id": "f7690ae3",
   "metadata": {},
   "source": [
    "# Testy nieparametryczne"
   ]
  },
  {
   "cell_type": "markdown",
   "id": "c6f2459c",
   "metadata": {},
   "source": [
    "## Test Wilcoxona"
   ]
  },
  {
   "cell_type": "markdown",
   "id": "26833dd1",
   "metadata": {},
   "source": [
    "Test Wilcoxona jest alternatywą dla parowego testu t-Studenta dla danych zależnych, kiedy różnice pomiędzy dwiema grupami nie mają rozkładu normalnego. Rozważmy dwie grupy: liczbę rodzin żyjących w ubóstwie (za kwotę poniżej połowy przeciętnego tygodniowego wynagrodzenia; na 1000 rodzin) w różnych stanach USA w roku 0 i 10 lat później. Test Shapiro-Wilka na poziomie istotności $\\alpha=0.05$ pozwala odrzucić hipotezę zerową o normalności rozkładu różnic w grupach.  "
   ]
  },
  {
   "cell_type": "code",
   "execution_count": 282,
   "id": "35770ecc",
   "metadata": {},
   "outputs": [
    {
     "name": "stdout",
     "output_type": "stream",
     "text": [
      "True\n"
     ]
    }
   ],
   "source": [
    "x0 = df1['BelowWage']\n",
    "x1 = df2['BelowWage10']\n",
    "alpha = 0.05\n",
    "diff = x0 - x1\n",
    "statistic, pval = shapiro(diff)\n",
    "print(pval <= alpha)"
   ]
  },
  {
   "cell_type": "markdown",
   "id": "870ed7ac",
   "metadata": {},
   "source": [
    "**Hipoteza zerowa**: mediana różnicy w liczbie rodzin żyjących w ubóstwie w roku 0 i po 10 latach jest równa 0."
   ]
  },
  {
   "cell_type": "code",
   "execution_count": 283,
   "id": "a579b2e1",
   "metadata": {},
   "outputs": [
    {
     "name": "stdout",
     "output_type": "stream",
     "text": [
      "False\n"
     ]
    }
   ],
   "source": [
    "alpha = 0.05\n",
    "statistic, pval = wilcoxon(x0, x1)\n",
    "print(pval <= alpha)"
   ]
  },
  {
   "cell_type": "markdown",
   "id": "c6e3a651",
   "metadata": {},
   "source": [
    "Otrzymana p wartość nie jest mniejsza lub równa od zadanego poziomu istotności, zatem nie można odrzucić hipotezy zerowej. H0 w teście Wilcoxona można interpretować jako przypuszczenie o jednakowym rozkładzie badanej cechy w zależnych grupach, co znajduje potwierdzenie w histogramach."
   ]
  },
  {
   "cell_type": "code",
   "execution_count": 284,
   "id": "828db444",
   "metadata": {},
   "outputs": [
    {
     "data": {
      "image/png": "[encoded data removed]",
      "text/plain": [
       "<Figure size 720x360 with 1 Axes>"
      ]
     },
     "metadata": {
      "needs_background": "light"
     },
     "output_type": "display_data"
    }
   ],
   "source": [
    "x0.hist(alpha=0.5)\n",
    "x1.hist(alpha=0.5)\n",
    "plt.title(\"Porównanie histogramów liczby rodzin żyjących w ubóstwie początkowo i po 10 latach\")\n",
    "plt.xlabel(\"Liczba rodzin (na 1000 rodzin)\")\n",
    "plt.legend([\"Rok 0\", \"Rok 10\"])\n",
    "plt.show()"
   ]
  },
  {
   "cell_type": "markdown",
   "id": "61ba344e",
   "metadata": {},
   "source": [
    "## Test Manna-Whitneya"
   ]
  },
  {
   "cell_type": "markdown",
   "id": "3ec2cbb9",
   "metadata": {},
   "source": [
    "Test Manna-Whitneya jest nieparametryczną wersją testu t-Studenta dla danych niezależnych. Nie wymaga on założenia o normalności rozkładu wśród grup. Do testu wybrane zostały próbki reprezentujące liczbę mieszkańców żyjących w ubóstwie w zależności od położenia stanu: południowego lub nie, są one wzajemnie niezależne. Test Shapiro-Wilka pozwoli określić, czy rozkłady w grupach można uznać za normalne."
   ]
  },
  {
   "cell_type": "code",
   "execution_count": 285,
   "id": "4ecf222a",
   "metadata": {},
   "outputs": [
    {
     "name": "stdout",
     "output_type": "stream",
     "text": [
      "True False\n"
     ]
    }
   ],
   "source": [
    "x0 = df1['BelowWage'][df1['Southern']=='tak']\n",
    "x1 = df1['BelowWage'][df1['Southern']=='nie']\n",
    "alpha = 0.05\n",
    "statistic1, pval1 = shapiro(x0)\n",
    "statistic2, pval2 = shapiro(x1)\n",
    "print(pval1 <= alpha, pval2 <= alpha)"
   ]
  },
  {
   "cell_type": "markdown",
   "id": "f54d8fbc",
   "metadata": {},
   "source": [
    "W grupie stanów południowych odrzucono hipotezę zerową o normalności rozkładu cechy *BelowWage*, zatem test Manna-Whitneya jest dobrym wyborem do badania statystycznego ($\\alpha=0.05$).\n",
    "\n",
    "**Hipoteza zerowa**: rozkład liczby osób w ubóstwie jest taki sam wśród stanów południowych i wśród stanów niepołudniowych."
   ]
  },
  {
   "cell_type": "code",
   "execution_count": 286,
   "id": "7d1f175f",
   "metadata": {},
   "outputs": [
    {
     "name": "stdout",
     "output_type": "stream",
     "text": [
      "True\n"
     ]
    }
   ],
   "source": [
    "alpha = 0.05\n",
    "statistic, pval = mannwhitneyu(x0, x1)\n",
    "print(pval <= alpha)"
   ]
  },
  {
   "cell_type": "markdown",
   "id": "fd507e45",
   "metadata": {},
   "source": [
    "Dzięki odpowiednio małej wartości p hipoteza zerowa została odrzucona na rzecz hipotezy alternatywnej: rozkład cechy *BelowWage* jest inny dla stanów południowych, a inny dla stanów nieleżących na południu. Werdykt testu można potwierdzić, rysując odpowiednie histogramy."
   ]
  },
  {
   "cell_type": "code",
   "execution_count": 289,
   "id": "b5ffc185",
   "metadata": {},
   "outputs": [
    {
     "data": {
      "image/png": "[encoded data removed]",
      "text/plain": [
       "<Figure size 720x360 with 1 Axes>"
      ]
     },
     "metadata": {
      "needs_background": "light"
     },
     "output_type": "display_data"
    }
   ],
   "source": [
    "h1 = x0.hist(bins=5, alpha=0.5)\n",
    "h2 = x1.hist(bins=5, alpha=0.5)\n",
    "plt.title(\"Porównanie histogramów liczby rodzin żyjących w ubóstwie w różnych stanach USA\")\n",
    "plt.xlabel(\"Liczba rodzin (na 1000 rodzin)\")\n",
    "plt.legend([\"Stany południowe\", \"Stany niepołudniowe\"])\n",
    "plt.show()"
   ]
  }
 ],
 "metadata": {
  "authors": [
   {
    "name": "Filip Mykieta, 229900"
   }
  ],
  "kernelspec": {
   "display_name": "Python 3 (ipykernel)",
   "language": "python",
   "name": "python3"
  },
  "language_info": {
   "codemirror_mode": {
    "name": "ipython",
    "version": 3
   },
   "file_extension": ".py",
   "mimetype": "text/x-python",
   "name": "python",
   "nbconvert_exporter": "python",
   "pygments_lexer": "ipython3",
   "version": "3.8.10"
  },
  "title": "Statystyczna analiza danych medycznych -- projekt"
 },
 "nbformat": 4,
 "nbformat_minor": 5
}
